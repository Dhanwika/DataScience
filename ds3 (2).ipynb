{
 "cells": [
  {
   "cell_type": "code",
   "execution_count": 1,
   "id": "c02f9ace",
   "metadata": {},
   "outputs": [
    {
     "name": "stdout",
     "output_type": "stream",
     "text": [
      "The average of the list values is:2\n"
     ]
    }
   ],
   "source": [
    "#mean\n",
    "import statistics\n",
    "#initializing list\n",
    "li=[1,2,3,3,2,2,2,1]\n",
    "#using mean() to calculate average of list elements\n",
    "print(\"The average of the list values is:\",end=\"\")\n",
    "print(statistics.mean(li))"
   ]
  },
  {
   "cell_type": "code",
   "execution_count": 7,
   "id": "8c1318e1",
   "metadata": {},
   "outputs": [
    {
     "name": "stdout",
     "output_type": "stream",
     "text": [
      "Median of data set 1 is 5\n",
      "Median of data set 2 is 5.9\n",
      "Median of data set 3 is 2\n",
      "Median of data set 4 is -5\n",
      "Median of data set 5 is 0.0\n"
     ]
    }
   ],
   "source": [
    "#median\n",
    "from statistics import median\n",
    "from fractions import Fraction as fr\n",
    "data1=(2,3,4,5,7,9,11)\n",
    "#tuple of floating point values\n",
    "data2=(2.4,5.1,6.7,8.9)\n",
    "#tuple of fractional numbers\n",
    "data3=(fr(1,2),fr(44,12),fr(10,3),fr(2,3))\n",
    "data4=(-5,-1,-12,-19,-3)\n",
    "data5=(-1,-2,-3,-4,4,3,2,1)\n",
    "#printing the median of above datasets\n",
    "print(\"Median of data set 1 is %s\"%(median(data1)))\n",
    "print(\"Median of data set 2 is %s\"%(median(data2)))\n",
    "print(\"Median of data set 3 is %s\"%(median(data3)))\n",
    "print(\"Median of data set 4 is %s\"%(median(data4)))\n",
    "print(\"Median of data set 5 is %s\"%(median(data5)))"
   ]
  },
  {
   "cell_type": "code",
   "execution_count": 15,
   "id": "268882f0",
   "metadata": {},
   "outputs": [
    {
     "name": "stdout",
     "output_type": "stream",
     "text": [
      "Median of data set 1 is [5, 6]\n",
      "Median of data set 2 is 1.3\n",
      "Median of data set 3 is 1/2\n",
      "Median of data set 4 is -2\n",
      "Median of data set 5 is black\n"
     ]
    }
   ],
   "source": [
    "#MODE\n",
    "from statistics import mode\n",
    "from fractions import Fraction as fr\n",
    "#tuple of positive integer numbers\n",
    "data1=(2,3,3,4,5,5,5,5,6,6,6,6,7)\n",
    "#tuple of a set of floating point numbers\n",
    "data2=(2.4,1.3,1.3,1.3,2.4,4.6)\n",
    "#tuple of a set of fractional numbers\n",
    "data3=(fr(1,2),fr(44,12),fr(10,3),fr(2,3))\n",
    "#tuple of a set of a negative integers\n",
    "data4=(-1,-2,-2,-2,-7,-7,-9)\n",
    "#tuple of strings\n",
    "data5=(\"red\",\"blue\",\"black\",\"blue\",\"black\",\"black\",\"brown\")\n",
    "#printing the mode of above datasets\n",
    "print(\"Median of data set 1 is %s\"%(statistics.multimode(data1)))\n",
    "print(\"Median of data set 2 is %s\"%(mode(data2)))\n",
    "print(\"Median of data set 3 is %s\"%(mode(data3)))\n",
    "print(\"Median of data set 4 is %s\"%(mode(data4)))\n",
    "print(\"Median of data set 5 is %s\"%(mode(data5)))"
   ]
  },
  {
   "cell_type": "code",
   "execution_count": 10,
   "id": "97c63602",
   "metadata": {},
   "outputs": [
    {
     "name": "stdout",
     "output_type": "stream",
     "text": [
      "Maximum=5,Minimum=1 and Range=4\n"
     ]
    }
   ],
   "source": [
    "#Range\n",
    "arr=[1,2,3,4,5]\n",
    "Maximum=max(arr)\n",
    "Minimum=min(arr)\n",
    "Range=Maximum-Minimum\n",
    "print(\"Maximum={},Minimum={} and Range={}\".format(Maximum,Minimum,Range))"
   ]
  },
  {
   "cell_type": "code",
   "execution_count": 12,
   "id": "cd8d6f98",
   "metadata": {},
   "outputs": [
    {
     "name": "stdout",
     "output_type": "stream",
     "text": [
      "Variance of Sample1 is 15.80952380952381 \n",
      "Variance of Sample2 is 3.5 \n",
      "Variance of Sample3 is 61.125 \n",
      "Variance of Sample4 is 1/45 \n",
      "Variance of Sample5 is 0.17613000000000006 \n"
     ]
    }
   ],
   "source": [
    "#Variance\n",
    "from statistics import variance\n",
    "from fractions import Fraction as fr\n",
    "sample1=(1,2,5,4,8,9,12)\n",
    "sample2=(-2,-4,-3,-1,-5,-6)\n",
    "sample3=(-9,-1,0,2,1,3,4,19)\n",
    "# tuple of a set of fractional numbers\n",
    "sample4 = (fr(1, 2), fr(2, 3), fr(3, 4),\n",
    "fr(5, 6), fr(7, 8))\n",
    "# tuple of a set of floating point values\n",
    "sample5 = (1.23, 1.45, 2.1, 2.2, 1.9)\n",
    "# Print the variance of each samples\n",
    "print(\"Variance of Sample1 is % s \" % (variance(sample1)))\n",
    "print(\"Variance of Sample2 is % s \" % (variance(sample2)))\n",
    "print(\"Variance of Sample3 is % s \" % (variance(sample3)))\n",
    "print(\"Variance of Sample4 is % s \" % (variance(sample4)))\n",
    "print(\"Variance of Sample5 is % s \" % (variance(sample5)))"
   ]
  },
  {
   "cell_type": "code",
   "execution_count": 13,
   "id": "9a8402be",
   "metadata": {},
   "outputs": [
    {
     "name": "stdout",
     "output_type": "stream",
     "text": [
      "The Standard Deviation of Sample1 is 3.9761191895520196\n",
      "The Standard Deviation of Sample2 is 1.8708286933869707\n",
      "The Standard Deviation of Sample3 is 7.8182478855559445\n",
      "The Standard Deviation of Sample4 is 0.41967844833872525\n"
     ]
    }
   ],
   "source": [
    "from statistics import stdev\n",
    "# importing fractions as parameter values\n",
    "from fractions import Fraction as fr\n",
    "# creating a varying range of sample sets\n",
    "# numbers are spread apart but not very much\n",
    "sample1 = (1, 2, 5, 4, 8, 9, 12)\n",
    "# tuple of a set of negative integers\n",
    "sample2 = (-2, -4, -3, -1, -5, -6)\n",
    "# tuple of a set of positive and negative numbers\n",
    "# data-points are spread apart considerably\n",
    "sample3 = (-9, -1, -0, 2, 1, 3, 4, 19)\n",
    "# tuple of a set of floating point values\n",
    "sample4 = (1.23, 1.45, 2.1, 2.2, 1.9)\n",
    "# Print the standard deviation of\n",
    "# following sample sets of observations\n",
    "print(\"The Standard Deviation of Sample1 is % s\"\n",
    "% (stdev(sample1)))\n",
    "print(\"The Standard Deviation of Sample2 is % s\"\n",
    "% (stdev(sample2)))\n",
    "print(\"The Standard Deviation of Sample3 is % s\"\n",
    "% (stdev(sample3)))\n",
    "print(\"The Standard Deviation of Sample4 is % s\"\n",
    "% (stdev(sample4)))"
   ]
  },
  {
   "cell_type": "code",
   "execution_count": 12,
   "id": "680925ec",
   "metadata": {},
   "outputs": [
    {
     "data": {
      "text/plain": [
       "DescribeResult(nobs=5, minmax=(1, 6), mean=3.6, variance=4.300000000000001, skewness=-0.23551393640880608, kurtosis=-1.9632233639805308)"
      ]
     },
     "execution_count": 12,
     "metadata": {},
     "output_type": "execute_result"
    }
   ],
   "source": [
    "from scipy import stats\n",
    "y=[1,4,5,2,6]\n",
    "result = scipy.stats.describe(y, ddof=1, bias=False)\n",
    "result"
   ]
  },
  {
   "cell_type": "code",
   "execution_count": 13,
   "id": "cbaef00c",
   "metadata": {},
   "outputs": [
    {
     "data": {
      "text/plain": [
       "5"
      ]
     },
     "execution_count": 13,
     "metadata": {},
     "output_type": "execute_result"
    }
   ],
   "source": [
    "result.nobs"
   ]
  },
  {
   "cell_type": "code",
   "execution_count": 14,
   "id": "c4c93ccc",
   "metadata": {},
   "outputs": [
    {
     "data": {
      "text/plain": [
       "1"
      ]
     },
     "execution_count": 14,
     "metadata": {},
     "output_type": "execute_result"
    }
   ],
   "source": [
    "result.minmax[0]"
   ]
  },
  {
   "cell_type": "code",
   "execution_count": 15,
   "id": "df15ce3b",
   "metadata": {},
   "outputs": [
    {
     "data": {
      "text/plain": [
       "6"
      ]
     },
     "execution_count": 15,
     "metadata": {},
     "output_type": "execute_result"
    }
   ],
   "source": [
    "result.minmax[1]"
   ]
  },
  {
   "cell_type": "code",
   "execution_count": 16,
   "id": "2bd87edd",
   "metadata": {},
   "outputs": [
    {
     "data": {
      "text/plain": [
       "3.6"
      ]
     },
     "execution_count": 16,
     "metadata": {},
     "output_type": "execute_result"
    }
   ],
   "source": [
    "result.mean"
   ]
  },
  {
   "cell_type": "code",
   "execution_count": 17,
   "id": "b7837c5e",
   "metadata": {},
   "outputs": [
    {
     "data": {
      "text/plain": [
       "4.300000000000001"
      ]
     },
     "execution_count": 17,
     "metadata": {},
     "output_type": "execute_result"
    }
   ],
   "source": [
    "result.variance"
   ]
  },
  {
   "cell_type": "code",
   "execution_count": 18,
   "id": "90051e86",
   "metadata": {},
   "outputs": [
    {
     "data": {
      "text/plain": [
       "-0.23551393640880608"
      ]
     },
     "execution_count": 18,
     "metadata": {},
     "output_type": "execute_result"
    }
   ],
   "source": [
    "result.skewness"
   ]
  },
  {
   "cell_type": "code",
   "execution_count": 19,
   "id": "65ef999c",
   "metadata": {},
   "outputs": [
    {
     "data": {
      "text/plain": [
       "-1.9632233639805308"
      ]
     },
     "execution_count": 19,
     "metadata": {},
     "output_type": "execute_result"
    }
   ],
   "source": [
    "result.kurtosis"
   ]
  },
  {
   "cell_type": "code",
   "execution_count": 29,
   "id": "1e4cf9de",
   "metadata": {},
   "outputs": [
    {
     "data": {
      "text/html": [
       "<div>\n",
       "<style scoped>\n",
       "    .dataframe tbody tr th:only-of-type {\n",
       "        vertical-align: middle;\n",
       "    }\n",
       "\n",
       "    .dataframe tbody tr th {\n",
       "        vertical-align: top;\n",
       "    }\n",
       "\n",
       "    .dataframe thead th {\n",
       "        text-align: right;\n",
       "    }\n",
       "</style>\n",
       "<table border=\"1\" class=\"dataframe\">\n",
       "  <thead>\n",
       "    <tr style=\"text-align: right;\">\n",
       "      <th></th>\n",
       "      <th>0</th>\n",
       "    </tr>\n",
       "  </thead>\n",
       "  <tbody>\n",
       "    <tr>\n",
       "      <th>count</th>\n",
       "      <td>5.000000</td>\n",
       "    </tr>\n",
       "    <tr>\n",
       "      <th>mean</th>\n",
       "      <td>3.000000</td>\n",
       "    </tr>\n",
       "    <tr>\n",
       "      <th>std</th>\n",
       "      <td>1.581139</td>\n",
       "    </tr>\n",
       "    <tr>\n",
       "      <th>min</th>\n",
       "      <td>1.000000</td>\n",
       "    </tr>\n",
       "    <tr>\n",
       "      <th>25%</th>\n",
       "      <td>2.000000</td>\n",
       "    </tr>\n",
       "    <tr>\n",
       "      <th>50%</th>\n",
       "      <td>3.000000</td>\n",
       "    </tr>\n",
       "    <tr>\n",
       "      <th>75%</th>\n",
       "      <td>4.000000</td>\n",
       "    </tr>\n",
       "    <tr>\n",
       "      <th>max</th>\n",
       "      <td>5.000000</td>\n",
       "    </tr>\n",
       "  </tbody>\n",
       "</table>\n",
       "</div>"
      ],
      "text/plain": [
       "              0\n",
       "count  5.000000\n",
       "mean   3.000000\n",
       "std    1.581139\n",
       "min    1.000000\n",
       "25%    2.000000\n",
       "50%    3.000000\n",
       "75%    4.000000\n",
       "max    5.000000"
      ]
     },
     "execution_count": 29,
     "metadata": {},
     "output_type": "execute_result"
    }
   ],
   "source": [
    "import pandas as pd\n",
    "z=[1,2,3,4,5]\n",
    "df=pd.DataFrame(z)\n",
    "result =df.describe()\n",
    "result"
   ]
  },
  {
   "cell_type": "code",
   "execution_count": 33,
   "id": "d7d22af4",
   "metadata": {},
   "outputs": [
    {
     "data": {
      "text/plain": [
       "0    3.0\n",
       "Name: mean, dtype: float64"
      ]
     },
     "execution_count": 33,
     "metadata": {},
     "output_type": "execute_result"
    }
   ],
   "source": [
    "result.loc['mean']"
   ]
  },
  {
   "cell_type": "code",
   "execution_count": 34,
   "id": "d263470e",
   "metadata": {},
   "outputs": [
    {
     "data": {
      "text/plain": [
       "0    1.581139\n",
       "Name: std, dtype: float64"
      ]
     },
     "execution_count": 34,
     "metadata": {},
     "output_type": "execute_result"
    }
   ],
   "source": [
    "result.loc['std']"
   ]
  },
  {
   "cell_type": "code",
   "execution_count": 35,
   "id": "5383b9af",
   "metadata": {},
   "outputs": [
    {
     "data": {
      "text/plain": [
       "0    1.0\n",
       "Name: min, dtype: float64"
      ]
     },
     "execution_count": 35,
     "metadata": {},
     "output_type": "execute_result"
    }
   ],
   "source": [
    " result.loc['min']"
   ]
  },
  {
   "cell_type": "code",
   "execution_count": 36,
   "id": "0d133aba",
   "metadata": {},
   "outputs": [
    {
     "data": {
      "text/plain": [
       "0    5.0\n",
       "Name: max, dtype: float64"
      ]
     },
     "execution_count": 36,
     "metadata": {},
     "output_type": "execute_result"
    }
   ],
   "source": [
    " result.loc['max']"
   ]
  },
  {
   "cell_type": "code",
   "execution_count": 37,
   "id": "b29326b8",
   "metadata": {},
   "outputs": [
    {
     "data": {
      "text/plain": [
       "0    2.0\n",
       "Name: 25%, dtype: float64"
      ]
     },
     "execution_count": 37,
     "metadata": {},
     "output_type": "execute_result"
    }
   ],
   "source": [
    " result.loc['25%']"
   ]
  },
  {
   "cell_type": "code",
   "execution_count": 38,
   "id": "4bc8961d",
   "metadata": {},
   "outputs": [
    {
     "data": {
      "text/plain": [
       "0    3.0\n",
       "Name: 50%, dtype: float64"
      ]
     },
     "execution_count": 38,
     "metadata": {},
     "output_type": "execute_result"
    }
   ],
   "source": [
    " result.loc['50%']"
   ]
  },
  {
   "cell_type": "code",
   "execution_count": 39,
   "id": "02b747ea",
   "metadata": {},
   "outputs": [
    {
     "data": {
      "text/plain": [
       "0    4.0\n",
       "Name: 75%, dtype: float64"
      ]
     },
     "execution_count": 39,
     "metadata": {},
     "output_type": "execute_result"
    }
   ],
   "source": [
    " result.loc['75%']"
   ]
  },
  {
   "cell_type": "code",
   "execution_count": 64,
   "id": "764a1cb4",
   "metadata": {},
   "outputs": [
    {
     "data": {
      "text/plain": [
       "0      0\n",
       "1      2\n",
       "2      2\n",
       "3      2\n",
       "4      2\n",
       "5      3\n",
       "6      3\n",
       "7      6\n",
       "8      7\n",
       "9      4\n",
       "10     7\n",
       "11     6\n",
       "12     6\n",
       "13     9\n",
       "14     5\n",
       "15     5\n",
       "16    10\n",
       "17    11\n",
       "18    12\n",
       "19    14\n",
       "20    15\n",
       "dtype: int32"
      ]
     },
     "execution_count": 64,
     "metadata": {},
     "output_type": "execute_result"
    }
   ],
   "source": [
    "import numpy as np\n",
    "import pandas as pd\n",
    "x = list(range(-10, 11))\n",
    "y = [0, 2, 2, 2, 2, 3, 3, 6, 7, 4, 7, 6, 6, 9, 5, 5, 10, 11, 12, 14,15]\n",
    "x_, y_ = np.array(x), np.array(y)\n",
    "x__, y__ =pd.Series(x_), pd.Series(y_)\n",
    "x__\n",
    "y__"
   ]
  },
  {
   "cell_type": "code",
   "execution_count": 65,
   "id": "b416a66f",
   "metadata": {},
   "outputs": [
    {
     "data": {
      "text/plain": [
       "23.799999999999994"
      ]
     },
     "execution_count": 65,
     "metadata": {},
     "output_type": "execute_result"
    }
   ],
   "source": [
    "n = len(x)\n",
    "mean_x, mean_y = sum(x) / n, sum(y) / n\n",
    "cov_xy = (sum((x[k] - mean_x) * (y[k] - mean_y) for k in range(n)) / (n - 1))\n",
    "cov_xy"
   ]
  },
  {
   "cell_type": "code",
   "execution_count": 66,
   "id": "a34146e2",
   "metadata": {},
   "outputs": [
    {
     "data": {
      "text/plain": [
       "array([[38.5       , 23.8       ],\n",
       "       [23.8       , 17.79047619]])"
      ]
     },
     "execution_count": 66,
     "metadata": {},
     "output_type": "execute_result"
    }
   ],
   "source": [
    "cov_matrix = np.cov(x_, y_)\n",
    "cov_matrix"
   ]
  },
  {
   "cell_type": "code",
   "execution_count": null,
   "id": "d3831d87",
   "metadata": {},
   "outputs": [],
   "source": []
  }
 ],
 "metadata": {
  "kernelspec": {
   "display_name": "Python 3 (ipykernel)",
   "language": "python",
   "name": "python3"
  },
  "language_info": {
   "codemirror_mode": {
    "name": "ipython",
    "version": 3
   },
   "file_extension": ".py",
   "mimetype": "text/x-python",
   "name": "python",
   "nbconvert_exporter": "python",
   "pygments_lexer": "ipython3",
   "version": "3.9.7"
  }
 },
 "nbformat": 4,
 "nbformat_minor": 5
}
