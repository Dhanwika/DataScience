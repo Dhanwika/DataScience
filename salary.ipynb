{
 "cells": [
  {
   "cell_type": "code",
   "execution_count": 1,
   "id": "d437cbf6",
   "metadata": {},
   "outputs": [
    {
     "name": "stdout",
     "output_type": "stream",
     "text": [
      "[ 3. nan  0.  4. nan]\n"
     ]
    }
   ],
   "source": [
    "import numpy as np\n",
    "import pandas as pd\n",
    "array=np.array([3,np.nan,0,4,np.nan])\n",
    "print(array)"
   ]
  },
  {
   "cell_type": "code",
   "execution_count": 16,
   "id": "a44785ff",
   "metadata": {},
   "outputs": [],
   "source": [
    "import numpy as np\n",
    "import pandas as pd\n",
    "data_string='''Id,Gender,Salary,Country,Company\n",
    "1,Male,15000,India,Google\n",
    "2,Female,45000,China,NaN\n",
    "3,Female,25000,India,Google\n",
    "4,NaN,NaN,Australia,Google\n",
    "5,Male,NaN,India,Google'''\n",
    "with open('salary.csv','w')as out:\n",
    "    out.write(data_string)"
   ]
  },
  {
   "cell_type": "code",
   "execution_count": 17,
   "id": "8afbfa4c",
   "metadata": {},
   "outputs": [
    {
     "name": "stdout",
     "output_type": "stream",
     "text": [
      "Salary Dataset:\n",
      "    Id  Gender   Salary    Country Company\n",
      "0   1    Male  15000.0      India  Google\n",
      "1   2  Female  45000.0      China     NaN\n",
      "2   3  Female  25000.0      India  Google\n",
      "3   4     NaN      NaN  Australia  Google\n",
      "4   5    Male      NaN      India  Google\n"
     ]
    }
   ],
   "source": [
    "df=pd.read_csv('salary.csv')\n",
    "print('Salary Dataset:\\n',df)"
   ]
  },
  {
   "cell_type": "code",
   "execution_count": 18,
   "id": "cb8df86f",
   "metadata": {},
   "outputs": [
    {
     "name": "stdout",
     "output_type": "stream",
     "text": [
      "Missing Data\n",
      "       Id  Gender  Salary  Country  Company\n",
      "0  False   False   False    False    False\n",
      "1  False   False   False    False     True\n",
      "2  False   False   False    False    False\n",
      "3  False    True    True    False    False\n",
      "4  False   False    True    False    False\n"
     ]
    }
   ],
   "source": [
    "print('Missing Data\\n',df.isna())"
   ]
  },
  {
   "cell_type": "code",
   "execution_count": 19,
   "id": "2a15a4a2",
   "metadata": {},
   "outputs": [
    {
     "name": "stdout",
     "output_type": "stream",
     "text": [
      "Missing Data\n",
      "       Id  Gender  Salary  Country  Company\n",
      "0  False   False   False    False    False\n",
      "1  False   False   False    False     True\n",
      "2  False   False   False    False    False\n",
      "3  False    True    True    False    False\n",
      "4  False   False    True    False    False\n"
     ]
    }
   ],
   "source": [
    "print('Missing Data\\n',df.isnull())"
   ]
  },
  {
   "cell_type": "code",
   "execution_count": 20,
   "id": "ae3fa00c",
   "metadata": {},
   "outputs": [
    {
     "name": "stdout",
     "output_type": "stream",
     "text": [
      "Filter based on columns:\n",
      "    Id  Gender   Salary    Country Company\n",
      "1   2  Female  45000.0      China     NaN\n",
      "3   4     NaN      NaN  Australia  Google\n",
      "4   5    Male      NaN      India  Google\n"
     ]
    }
   ],
   "source": [
    "print('Filter based on columns:\\n',df[df.isnull().any(axis=1)])"
   ]
  },
  {
   "cell_type": "code",
   "execution_count": 21,
   "id": "78e7be19",
   "metadata": {},
   "outputs": [
    {
     "name": "stdout",
     "output_type": "stream",
     "text": [
      "Sum up the missing values:\n",
      " Id         0\n",
      "Gender     1\n",
      "Salary     2\n",
      "Country    0\n",
      "Company    1\n",
      "dtype: int64\n"
     ]
    }
   ],
   "source": [
    "print('Sum up the missing values:\\n',df.isnull().sum())"
   ]
  },
  {
   "cell_type": "code",
   "execution_count": 22,
   "id": "90189197",
   "metadata": {},
   "outputs": [
    {
     "name": "stdout",
     "output_type": "stream",
     "text": [
      "   Id  Gender   Salary Country Company\n",
      "0   1    Male  15000.0   India  Google\n",
      "2   3  Female  25000.0   India  Google\n"
     ]
    }
   ],
   "source": [
    "df.dropna(inplace=True)\n",
    "print(df)"
   ]
  },
  {
   "cell_type": "code",
   "execution_count": 24,
   "id": "23b4638d",
   "metadata": {},
   "outputs": [
    {
     "name": "stdout",
     "output_type": "stream",
     "text": [
      "   Id  Gender   Salary Country Company\n",
      "0   1    Male  15000.0   India  Google\n",
      "2   3  Female  25000.0   India  Google\n"
     ]
    }
   ],
   "source": [
    "df[\"Salary\"].fillna(20000,inplace=True)\n",
    "print(df)"
   ]
  },
  {
   "cell_type": "code",
   "execution_count": 26,
   "id": "a4da8ac0",
   "metadata": {},
   "outputs": [
    {
     "data": {
      "text/plain": [
       "0    False\n",
       "2    False\n",
       "Name: Gender, dtype: bool"
      ]
     },
     "execution_count": 26,
     "metadata": {},
     "output_type": "execute_result"
    }
   ],
   "source": [
    "gender=pd.isnull(df['Gender'])\n",
    "gender"
   ]
  },
  {
   "cell_type": "code",
   "execution_count": 27,
   "id": "c6274172",
   "metadata": {},
   "outputs": [
    {
     "name": "stdout",
     "output_type": "stream",
     "text": [
      "Non Missing data\n",
      "      Id  Gender  Salary  Country  Company\n",
      "0  True    True    True     True     True\n",
      "2  True    True    True     True     True\n"
     ]
    }
   ],
   "source": [
    "print('Non Missing data\\n',df.notnull())"
   ]
  },
  {
   "cell_type": "code",
   "execution_count": 28,
   "id": "4cfc4405",
   "metadata": {},
   "outputs": [
    {
     "name": "stdout",
     "output_type": "stream",
     "text": [
      "Drop Missing Data\n",
      " 0    Google\n",
      "2    Google\n",
      "Name: Company, dtype: object\n"
     ]
    },
    {
     "data": {
      "text/html": [
       "<div>\n",
       "<style scoped>\n",
       "    .dataframe tbody tr th:only-of-type {\n",
       "        vertical-align: middle;\n",
       "    }\n",
       "\n",
       "    .dataframe tbody tr th {\n",
       "        vertical-align: top;\n",
       "    }\n",
       "\n",
       "    .dataframe thead th {\n",
       "        text-align: right;\n",
       "    }\n",
       "</style>\n",
       "<table border=\"1\" class=\"dataframe\">\n",
       "  <thead>\n",
       "    <tr style=\"text-align: right;\">\n",
       "      <th></th>\n",
       "      <th>Id</th>\n",
       "      <th>Gender</th>\n",
       "      <th>Salary</th>\n",
       "      <th>Country</th>\n",
       "      <th>Company</th>\n",
       "    </tr>\n",
       "  </thead>\n",
       "  <tbody>\n",
       "    <tr>\n",
       "      <th>0</th>\n",
       "      <td>1</td>\n",
       "      <td>Male</td>\n",
       "      <td>15000.0</td>\n",
       "      <td>India</td>\n",
       "      <td>Google</td>\n",
       "    </tr>\n",
       "    <tr>\n",
       "      <th>2</th>\n",
       "      <td>3</td>\n",
       "      <td>Female</td>\n",
       "      <td>25000.0</td>\n",
       "      <td>India</td>\n",
       "      <td>Google</td>\n",
       "    </tr>\n",
       "  </tbody>\n",
       "</table>\n",
       "</div>"
      ],
      "text/plain": [
       "   Id  Gender   Salary Country Company\n",
       "0   1    Male  15000.0   India  Google\n",
       "2   3  Female  25000.0   India  Google"
      ]
     },
     "execution_count": 28,
     "metadata": {},
     "output_type": "execute_result"
    }
   ],
   "source": [
    "print('Drop Missing Data\\n',df.Company.dropna())\n",
    "df.dropna()"
   ]
  },
  {
   "cell_type": "code",
   "execution_count": 29,
   "id": "5a32a556",
   "metadata": {},
   "outputs": [
    {
     "name": "stdout",
     "output_type": "stream",
     "text": [
      "   Id  Gender   Salary Country Company\n",
      "0   1    Male  15000.0   India  Google\n",
      "2   3  Female  25000.0   India  Google\n"
     ]
    }
   ],
   "source": [
    "df.dropna(axis=1)\n",
    "print(df)"
   ]
  },
  {
   "cell_type": "code",
   "execution_count": 31,
   "id": "5508c25d",
   "metadata": {},
   "outputs": [
    {
     "name": "stdout",
     "output_type": "stream",
     "text": [
      "   Id  Gender   Salary Country Company\n",
      "0   1    Male  15000.0   India  Google\n",
      "2   3  Female  25000.0   India  Google\n"
     ]
    }
   ],
   "source": [
    "new_df=df.dropna(axis=0,how='any')\n",
    "print(new_df)"
   ]
  },
  {
   "cell_type": "code",
   "execution_count": 32,
   "id": "2157f564",
   "metadata": {},
   "outputs": [
    {
     "name": "stdout",
     "output_type": "stream",
     "text": [
      "Fill missing data\n",
      "    Id  Gender   Salary Country Company\n",
      "0   1    Male  15000.0   India  Google\n",
      "2   3  Female  25000.0   India  Google\n"
     ]
    }
   ],
   "source": [
    "print('Fill missing data\\n',df.fillna(0))"
   ]
  },
  {
   "cell_type": "code",
   "execution_count": 33,
   "id": "abec41dd",
   "metadata": {},
   "outputs": [
    {
     "name": "stdout",
     "output_type": "stream",
     "text": [
      "Fill missing data\n",
      "    Id  Gender   Salary Country Company\n",
      "0   1    Male  15000.0   India  Google\n",
      "2   3  Female  25000.0   India  Google\n"
     ]
    }
   ],
   "source": [
    "print('Fill missing data\\n',df.fillna(method='pad'))"
   ]
  },
  {
   "cell_type": "code",
   "execution_count": 34,
   "id": "41497b7b",
   "metadata": {},
   "outputs": [
    {
     "name": "stdout",
     "output_type": "stream",
     "text": [
      "Fill missing data\n",
      "    Id  Gender   Salary Country Company\n",
      "0   1    Male  15000.0   India  Google\n",
      "2   3  Female  25000.0   India  Google\n"
     ]
    }
   ],
   "source": [
    "print('Fill missing data\\n',df.fillna(method='bfill'))"
   ]
  },
  {
   "cell_type": "code",
   "execution_count": 36,
   "id": "016f6839",
   "metadata": {},
   "outputs": [
    {
     "name": "stdout",
     "output_type": "stream",
     "text": [
      "Fill Missing Data\n",
      " None\n"
     ]
    }
   ],
   "source": [
    "print('Fill Missing Data\\n',df['Gender'].fillna(\"No Gender\",inplace=True))"
   ]
  },
  {
   "cell_type": "code",
   "execution_count": 37,
   "id": "4ed9da4e",
   "metadata": {},
   "outputs": [
    {
     "name": "stdout",
     "output_type": "stream",
     "text": [
      "   Id  Gender   Salary Country    Company\n",
      "0   1    Male  15000.0   India  Microsoft\n",
      "2   3  Female  25000.0   India  Microsoft\n"
     ]
    }
   ],
   "source": [
    "print(df.replace(to_replace=\"Google\",value=\"Microsoft\"))"
   ]
  },
  {
   "cell_type": "code",
   "execution_count": 38,
   "id": "84558653",
   "metadata": {},
   "outputs": [
    {
     "name": "stdout",
     "output_type": "stream",
     "text": [
      "   Id  Gender   Salary Country Company\n",
      "0   1    Male  15000.0   India  Google\n",
      "2   3  Female  25000.0   India  Google\n"
     ]
    }
   ],
   "source": [
    "print(df.interpolate(method=\"linear\",limit_direction='forward'))"
   ]
  },
  {
   "cell_type": "code",
   "execution_count": null,
   "id": "2110297d",
   "metadata": {},
   "outputs": [],
   "source": []
  }
 ],
 "metadata": {
  "kernelspec": {
   "display_name": "Python 3 (ipykernel)",
   "language": "python",
   "name": "python3"
  },
  "language_info": {
   "codemirror_mode": {
    "name": "ipython",
    "version": 3
   },
   "file_extension": ".py",
   "mimetype": "text/x-python",
   "name": "python",
   "nbconvert_exporter": "python",
   "pygments_lexer": "ipython3",
   "version": "3.9.7"
  }
 },
 "nbformat": 4,
 "nbformat_minor": 5
}
