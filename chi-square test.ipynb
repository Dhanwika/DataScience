{
 "cells": [
  {
   "cell_type": "code",
   "execution_count": 24,
   "id": "38e5834c",
   "metadata": {},
   "outputs": [],
   "source": [
    "import pandas as pd\n",
    "from sklearn.feature_selection import SelectKBest, chi2\n",
    "from sklearn.model_selection import train_test_split\n",
    "from sklearn.svm import SVC\n",
    "from sklearn.metrics import accuracy_score, classification_report"
   ]
  },
  {
   "cell_type": "code",
   "execution_count": 25,
   "id": "b9c57dcb",
   "metadata": {},
   "outputs": [],
   "source": [
    "# Feature selection using chi-square test\n",
    "def perform_chi2_feature_selection(X, y, k=5):\n",
    "    chi2_selector = SelectKBest(chi2, k=k)\n",
    "    X_new = chi2_selector.fit_transform(X, y)\n",
    "    return X_new"
   ]
  },
  {
   "cell_type": "code",
   "execution_count": 26,
   "id": "5be4edf4",
   "metadata": {},
   "outputs": [],
   "source": [
    "# Split data into training and testing sets\n",
    "def split_data(X, y, test_size=0.2, random_state=42):\n",
    "    X_train, X_test, y_train, y_test = train_test_split(X, y, test_size=test_size, random_state=random_state)\n",
    "    return X_train, X_test, y_train, y_test"
   ]
  },
  {
   "cell_type": "code",
   "execution_count": 27,
   "id": "4cfd6635",
   "metadata": {},
   "outputs": [],
   "source": [
    "def train_svm(X_train, y_train, C=1.0, kernel='linear'):\n",
    "    svm_classifier = SVC(C=C, kernel=kernel)\n",
    "    svm_classifier.fit(X_train, y_train)\n",
    "    return svm_classifier"
   ]
  },
  {
   "cell_type": "code",
   "execution_count": 28,
   "id": "c0f3264a",
   "metadata": {},
   "outputs": [],
   "source": [
    "def evaluate_svm(svm_classifier, X_test, y_test):\n",
    "    y_pred = svm_classifier.predict(X_test)\n",
    "    accuracy = accuracy_score(y_test, y_pred)\n",
    "    report = classification_report(y_test, y_pred)\n",
    "    return accuracy, report"
   ]
  },
  {
   "cell_type": "code",
   "execution_count": 29,
   "id": "b384a970",
   "metadata": {},
   "outputs": [
    {
     "name": "stdout",
     "output_type": "stream",
     "text": [
      "Accuracy: 0.75\n",
      "Classification Report:\n",
      "              precision    recall  f1-score   support\n",
      "\n",
      "           1       0.67      0.67      0.67         3\n",
      "           2       1.00      1.00      1.00         2\n",
      "           3       0.33      0.50      0.40         2\n",
      "           4       1.00      0.80      0.89         5\n",
      "\n",
      "    accuracy                           0.75        12\n",
      "   macro avg       0.75      0.74      0.74        12\n",
      "weighted avg       0.81      0.75      0.77        12\n",
      "\n"
     ]
    }
   ],
   "source": [
    "if __name__ == \"__main__\":\n",
    "    # Load your data into a pandas DataFrame\n",
    "    # Replace 'your_data.csv' with the actual file path of your dataset\n",
    "    data = pd.read_csv('fruit _data.csv')\n",
    "\n",
    "    # Separate the target variable from features\n",
    "    dff = data.drop('fruit_label', axis=1)\n",
    "    df = dff.drop('fruit_subtype', axis=1)\n",
    "    X = df.drop('fruit_name', axis=1)\n",
    "    y = data['fruit_label']\n",
    "\n",
    "    # Step 1: Perform chi-square feature selection\n",
    "    k_selected_features = 4   # Adjust this value based on how many top features you want to select\n",
    "    X_selected = perform_chi2_feature_selection(X, y, k = k_selected_features)\n",
    "\n",
    "    # Step 2: Split the data into training and testing sets\n",
    "    X_train, X_test, y_train, y_test = split_data(X_selected, y)\n",
    "\n",
    "    # Step 3: Train the SVM classifier\n",
    "    svm_classifier = train_svm(X_train, y_train)\n",
    "\n",
    "    # Step 4: Evaluate the SVM classifier\n",
    "    accuracy, report = evaluate_svm(svm_classifier, X_test, y_test)\n",
    "    print(\"Accuracy:\", accuracy)\n",
    "    print(\"Classification Report:\")\n",
    "    print(report)"
   ]
  },
  {
   "cell_type": "code",
   "execution_count": null,
   "id": "b92be657",
   "metadata": {},
   "outputs": [],
   "source": []
  }
 ],
 "metadata": {
  "kernelspec": {
   "display_name": "Python 3 (ipykernel)",
   "language": "python",
   "name": "python3"
  },
  "language_info": {
   "codemirror_mode": {
    "name": "ipython",
    "version": 3
   },
   "file_extension": ".py",
   "mimetype": "text/x-python",
   "name": "python",
   "nbconvert_exporter": "python",
   "pygments_lexer": "ipython3",
   "version": "3.9.7"
  }
 },
 "nbformat": 4,
 "nbformat_minor": 5
}
