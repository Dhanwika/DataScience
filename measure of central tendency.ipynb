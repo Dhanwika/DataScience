{
 "cells": [
  {
   "cell_type": "code",
   "execution_count": 6,
   "id": "15cdc44a",
   "metadata": {},
   "outputs": [
    {
     "name": "stdout",
     "output_type": "stream",
     "text": [
      "Mean / Average is: 3.0\n"
     ]
    }
   ],
   "source": [
    "#calculating mean without using built_in functions\n",
    "#Example no:1\n",
    "n_num = [1, 2, 3, 4, 5]\n",
    "n = len(n_num)\n",
    "get_sum = sum(n_num)\n",
    "mean = get_sum / n\n",
    "print(\"Mean / Average is: \" +str(mean))"
   ]
  },
  {
   "cell_type": "code",
   "execution_count": 4,
   "id": "94ab5ad4",
   "metadata": {},
   "outputs": [
    {
     "name": "stdout",
     "output_type": "stream",
     "text": [
      "Mean / Average is: 35.98\n"
     ]
    }
   ],
   "source": [
    "#Example no:2\n",
    "n_num = [10.45, 24.23, 37.76, 48.23, 59.23]\n",
    "n = len(n_num)\n",
    "get_sum = sum(n_num)\n",
    "mean = get_sum / n\n",
    "print(\"Mean / Average is: \" + str(mean))"
   ]
  },
  {
   "cell_type": "code",
   "execution_count": 8,
   "id": "9c727265",
   "metadata": {},
   "outputs": [
    {
     "name": "stdout",
     "output_type": "stream",
     "text": [
      "Median is: 6.0\n"
     ]
    }
   ],
   "source": [
    "#calculating median without using built_in functions\n",
    "n_num = [4,8,6,9,5,5,6,7]\n",
    "n = len(n_num)\n",
    "n_num.sort()\n",
    "if n % 2 == 0:\n",
    "    median1 = n_num[n//2]\n",
    "    median2 = n_num[n//2 - 1]\n",
    "    median = (median1 + median2)/2\n",
    "else:\n",
    "    median = n_num[n//2]\n",
    "print(\"Median is: \" + str(median))"
   ]
  },
  {
   "cell_type": "code",
   "execution_count": 10,
   "id": "e173dcb3",
   "metadata": {},
   "outputs": [
    {
     "name": "stdout",
     "output_type": "stream",
     "text": [
      "Mode is / are: 4, 8\n"
     ]
    }
   ],
   "source": [
    "#calculating mode without using built_in functions\n",
    "from collections import Counter\n",
    "n_num = [4,8,5,6,4,4,8,8]\n",
    "n = len(n_num)\n",
    "data = Counter(n_num)\n",
    "get_mode = dict(data)\n",
    "mode = [k for k, v in get_mode.items() if v == max(list(data.values()))]\n",
    "if len(mode) == n:\n",
    "    get_mode = \"No mode found\"\n",
    "else:\n",
    "    get_mode = \"Mode is / are: \" + ', '.join(map(str, mode))    \n",
    "print(get_mode)"
   ]
  },
  {
   "cell_type": "code",
   "execution_count": 5,
   "id": "9be384cf",
   "metadata": {},
   "outputs": [
    {
     "name": "stdout",
     "output_type": "stream",
     "text": [
      "Variance : 0.03687499999999999\n",
      "Standard Deviation: 0.19202864369671518\n"
     ]
    }
   ],
   "source": [
    "#calculating variance and standard deviation without using library functions\n",
    "import math\n",
    "xs = [0.5,0.7,0.3,0.2]     # values (must be floats!)\n",
    "mean = sum(xs) / len(xs)   # mean\n",
    "var  = sum(pow(x-mean,2) for x in xs) / len(xs)  # variance\n",
    "std  = math.sqrt(var)  # standard deviation\n",
    "print(\"Variance :\",var)\n",
    "print(\"Standard Deviation:\",std)"
   ]
  },
  {
   "cell_type": "code",
   "execution_count": 7,
   "id": "dfe5d609",
   "metadata": {},
   "outputs": [
    {
     "name": "stdout",
     "output_type": "stream",
     "text": [
      "Co-variance ; -0.05805000000000284\n"
     ]
    }
   ],
   "source": [
    "#calculating covariance without using library functions\n",
    "import math\n",
    "def mean(arr, n):\n",
    "    sum = 0\n",
    "    for i in range(0, n):\n",
    "        sum = sum + arr[i]\n",
    "    return sum / n\n",
    "def covariance(arr1, arr2, n):\n",
    "    sum = 0\n",
    "    mean_arr1 = mean(arr1, n)\n",
    "    mean_arr2 = mean(arr2, n)\n",
    "    for i in range(0, n):\n",
    "        sum = (sum + (arr1[i] - mean_arr1) * (arr2[i] - mean_arr2))\n",
    "    return sum / (n - 1)\n",
    "arr1 = [65.21, 64.75, 65.26, 65.76, 65.96]\n",
    "n = len(arr1)\n",
    "arr2 = [67.25, 66.39, 66.12, 65.70, 66.64]\n",
    "m = len(arr2)\n",
    "if (m == n):\n",
    "    print(\"Co-variance ;\",covariance(arr1, arr2, m))"
   ]
  },
  {
   "cell_type": "code",
   "execution_count": 16,
   "id": "a745a8d3",
   "metadata": {},
   "outputs": [
    {
     "name": "stdout",
     "output_type": "stream",
     "text": [
      "{1, 2, 5}\n"
     ]
    }
   ],
   "source": [
    "#calculating mode without using library functions\n",
    "number_list = [1,1,2,2,5,5,8,9,6]\n",
    "uniq_values = []\n",
    "mode_values = []\n",
    "for i in number_list:\n",
    "    if i not in uniq_values:\n",
    "        uniq_values.append(i)\n",
    "    else:\n",
    "        mode_values.append(i)\n",
    "print(set(mode_values))"
   ]
  },
  {
   "cell_type": "code",
   "execution_count": 17,
   "id": "38ebbbc9",
   "metadata": {},
   "outputs": [
    {
     "name": "stdout",
     "output_type": "stream",
     "text": [
      "Maximum=6,Minimum=1 and Range=5\n",
      "Co-efficient of range=0.7142857142857143\n"
     ]
    }
   ],
   "source": [
    "#finding co-efficient of range witout using library functions\n",
    "arr=[1,2,3,4,5,6]\n",
    "max=max(arr)\n",
    "min=min(arr)\n",
    "Range=max-min\n",
    "coefficientofrange=Range/(max+min)\n",
    "print(\"Maximum={},Minimum={} and Range={}\".format(max,min,Range))\n",
    "print(\"Co-efficient of range={}\".format(coefficientofrange))"
   ]
  },
  {
   "cell_type": "code",
   "execution_count": 20,
   "id": "ee9278ae",
   "metadata": {},
   "outputs": [
    {
     "name": "stdout",
     "output_type": "stream",
     "text": [
      "Variance : 0.03687499999999999\n",
      "Standard Deviation: 0.19202864369671518\n",
      "Co-efficient of Variance : 0.45183210281580044\n"
     ]
    }
   ],
   "source": [
    "#finding co-efficient of variance witout using library functions\n",
    "import math\n",
    "xs = [0.5,0.7,0.3,0.2]     # values (must be floats!)\n",
    "mean = sum(xs) / len(xs)   # mean\n",
    "var  = sum(pow(x-mean,2) for x in xs) / len(xs)  # variance\n",
    "std  = math.sqrt(var)  # standard deviation\n",
    "co_v = std/mean\n",
    "print(\"Variance :\",var)\n",
    "print(\"Standard Deviation:\",std)\n",
    "print(\"Co-efficient of Variance :\",co_v)"
   ]
  },
  {
   "cell_type": "code",
   "execution_count": null,
   "id": "2c308287",
   "metadata": {},
   "outputs": [],
   "source": []
  }
 ],
 "metadata": {
  "kernelspec": {
   "display_name": "Python 3 (ipykernel)",
   "language": "python",
   "name": "python3"
  },
  "language_info": {
   "codemirror_mode": {
    "name": "ipython",
    "version": 3
   },
   "file_extension": ".py",
   "mimetype": "text/x-python",
   "name": "python",
   "nbconvert_exporter": "python",
   "pygments_lexer": "ipython3",
   "version": "3.9.7"
  }
 },
 "nbformat": 4,
 "nbformat_minor": 5
}
