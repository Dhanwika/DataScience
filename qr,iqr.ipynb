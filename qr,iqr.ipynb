{
 "cells": [
  {
   "cell_type": "code",
   "execution_count": 1,
   "id": "0e812dec",
   "metadata": {},
   "outputs": [
    {
     "name": "stdout",
     "output_type": "stream",
     "text": [
      "34.0\n"
     ]
    }
   ],
   "source": [
    "#calculating inter-quartile range without using library function\n",
    "import numpy as np \n",
    "data = [32, 36, 46, 47, 56, 69, 75, 79, 79, 88, 89, 91, 92, 93, 96, 97, \n",
    "        101, 105, 112, 116]  \n",
    "# First quartile (Q1)\n",
    "Q1 = np.median(data[:10])  \n",
    "# Third quartile (Q3)\n",
    "Q3 = np.median(data[10:])  \n",
    "# Interquartile range (IQR)\n",
    "IQR = Q3 - Q1 \n",
    "print(IQR)"
   ]
  },
  {
   "cell_type": "code",
   "execution_count": 4,
   "id": "b60e0554",
   "metadata": {},
   "outputs": [
    {
     "name": "stdout",
     "output_type": "stream",
     "text": [
      "34.0\n"
     ]
    }
   ],
   "source": [
    "#calculating inter-quartile range  using library function\n",
    "# Import stats from scipy library\n",
    "from scipy import stats\n",
    "\n",
    "data = [32, 36, 46, 47, 56, 69, 75, 79, 79, 88, 89, 91, 92, 93, 96, 97,\n",
    "        101, 105, 112, 116]\n",
    "\n",
    "# Interquartile range (IQR)\n",
    "IQR = stats.iqr(data, interpolation = 'midpoint')\n",
    "\n",
    "print(IQR)\n"
   ]
  },
  {
   "cell_type": "code",
   "execution_count": 15,
   "id": "c13a8615",
   "metadata": {},
   "outputs": [
    {
     "name": "stdout",
     "output_type": "stream",
     "text": [
      "Enter a multiple value: 8 5 6 2 3 1 \n",
      "Mean / Average is: 4.166666666666667\n"
     ]
    }
   ],
   "source": [
    "n_num = list(map(int, input(\"Enter a multiple value: \").split()))\n",
    "n = len(n_num)\n",
    "get_sum = sum(n_num)\n",
    "mean = get_sum / n\n",
    "print(\"Mean / Average is: \" +str(mean))"
   ]
  },
  {
   "cell_type": "code",
   "execution_count": null,
   "id": "1226e168",
   "metadata": {},
   "outputs": [
    {
     "name": "stdout",
     "output_type": "stream",
     "text": [
      "Enter the number of elements: 5\n"
     ]
    }
   ],
   "source": [
    "n=int(input(\"Enter the number of elements: \"))\n",
    "mylist=[]\n",
    "for i  in range(0,n):\n",
    "    ele=int(input(\"enter the value:\"))\n",
    "    mylist.append(ele)\n",
    "n = len(mylist)\n",
    "get_sum = sum(mylist)\n",
    "mean = get_sum / n\n",
    "print(\"Mean / Average is: \" +str(mean))"
   ]
  },
  {
   "cell_type": "code",
   "execution_count": 34,
   "id": "d90e64f1",
   "metadata": {},
   "outputs": [
    {
     "name": "stdout",
     "output_type": "stream",
     "text": [
      "Enter the numbers:4 6 9 8 5 2 3\n",
      "4 6 9 8 5 2 3\n"
     ]
    }
   ],
   "source": [
    "num=input(\"Enter the numbers:\")\n",
    "print(num)"
   ]
  },
  {
   "cell_type": "code",
   "execution_count": null,
   "id": "a39544af",
   "metadata": {},
   "outputs": [],
   "source": []
  }
 ],
 "metadata": {
  "kernelspec": {
   "display_name": "Python 3 (ipykernel)",
   "language": "python",
   "name": "python3"
  },
  "language_info": {
   "codemirror_mode": {
    "name": "ipython",
    "version": 3
   },
   "file_extension": ".py",
   "mimetype": "text/x-python",
   "name": "python",
   "nbconvert_exporter": "python",
   "pygments_lexer": "ipython3",
   "version": "3.9.7"
  }
 },
 "nbformat": 4,
 "nbformat_minor": 5
}
