{
 "cells": [
  {
   "cell_type": "code",
   "execution_count": 7,
   "id": "65a0e4c0",
   "metadata": {},
   "outputs": [
    {
     "data": {
      "text/plain": [
       "array([0, 1, 2, 3, 4, 5, 6, 7, 8, 9])"
      ]
     },
     "execution_count": 7,
     "metadata": {},
     "output_type": "execute_result"
    }
   ],
   "source": [
    "#creating ndarrays\n",
    "#file input and output with arrays\n",
    "import numpy as np\n",
    "arr=np.arange(10)\n",
    "np.save(\"some_array\",arr)\n",
    "arr"
   ]
  },
  {
   "cell_type": "code",
   "execution_count": 8,
   "id": "4d83761c",
   "metadata": {},
   "outputs": [
    {
     "data": {
      "text/plain": [
       "array([0, 1, 2, 3, 4, 5, 6, 7, 8, 9])"
      ]
     },
     "execution_count": 8,
     "metadata": {},
     "output_type": "execute_result"
    }
   ],
   "source": [
    "np.load(\"some_array.npy\")"
   ]
  },
  {
   "cell_type": "code",
   "execution_count": 9,
   "id": "79b51fdc",
   "metadata": {},
   "outputs": [],
   "source": [
    "np.savez(\"array_archive.npz\",a=arr,b=arr)"
   ]
  },
  {
   "cell_type": "code",
   "execution_count": 10,
   "id": "5c480b65",
   "metadata": {},
   "outputs": [],
   "source": [
    "arch=np.load(\"array_archive.npz\")"
   ]
  },
  {
   "cell_type": "code",
   "execution_count": 11,
   "id": "03f69329",
   "metadata": {},
   "outputs": [
    {
     "data": {
      "text/plain": [
       "array([0, 1, 2, 3, 4, 5, 6, 7, 8, 9])"
      ]
     },
     "execution_count": 11,
     "metadata": {},
     "output_type": "execute_result"
    }
   ],
   "source": [
    "arch['b']"
   ]
  },
  {
   "cell_type": "code",
   "execution_count": 22,
   "id": "0eb6e657",
   "metadata": {},
   "outputs": [],
   "source": [
    "arr1=np.array([1,5,6,7])\n",
    "arr2=np.array([8,9,5,6])\n",
    "np.savez(\"array_archive2.npz\",a=arr1,b=arr2)"
   ]
  },
  {
   "cell_type": "code",
   "execution_count": 23,
   "id": "a6c4ff47",
   "metadata": {},
   "outputs": [],
   "source": [
    "arch=np.load(\"array_archive2.npz\")"
   ]
  },
  {
   "cell_type": "code",
   "execution_count": 24,
   "id": "f659ca2d",
   "metadata": {},
   "outputs": [
    {
     "data": {
      "text/plain": [
       "array([1, 5, 6, 7])"
      ]
     },
     "execution_count": 24,
     "metadata": {},
     "output_type": "execute_result"
    }
   ],
   "source": [
    "arch['a']"
   ]
  },
  {
   "cell_type": "code",
   "execution_count": 25,
   "id": "c52d60ea",
   "metadata": {},
   "outputs": [
    {
     "data": {
      "text/plain": [
       "array([8, 9, 5, 6])"
      ]
     },
     "execution_count": 25,
     "metadata": {},
     "output_type": "execute_result"
    }
   ],
   "source": [
    "arch['b']"
   ]
  },
  {
   "cell_type": "code",
   "execution_count": null,
   "id": "87a5c8d5",
   "metadata": {},
   "outputs": [],
   "source": []
  }
 ],
 "metadata": {
  "kernelspec": {
   "display_name": "Python 3 (ipykernel)",
   "language": "python",
   "name": "python3"
  },
  "language_info": {
   "codemirror_mode": {
    "name": "ipython",
    "version": 3
   },
   "file_extension": ".py",
   "mimetype": "text/x-python",
   "name": "python",
   "nbconvert_exporter": "python",
   "pygments_lexer": "ipython3",
   "version": "3.9.7"
  }
 },
 "nbformat": 4,
 "nbformat_minor": 5
}
