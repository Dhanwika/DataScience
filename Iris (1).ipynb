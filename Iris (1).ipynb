{
 "cells": [
  {
   "cell_type": "code",
   "execution_count": 3,
   "id": "edb6d2aa",
   "metadata": {},
   "outputs": [
    {
     "name": "stdout",
     "output_type": "stream",
     "text": [
      "{'firstName': 'Joe', 'lastName': 'Jackson', 'gender': 'male', 'age': 28, 'address': {'streetAddress': '101', 'city': 'San Diego', 'state': 'CA'}, 'phoneNumbers': [{'type': 'home', 'number': '7349282382'}]}\n"
     ]
    }
   ],
   "source": [
    "import json\n",
    "with open('sample2.json')as f:\n",
    "    data=json.load(f)\n",
    "    \n",
    "print(data)"
   ]
  },
  {
   "cell_type": "code",
   "execution_count": 33,
   "id": "e7635227",
   "metadata": {},
   "outputs": [
    {
     "data": {
      "text/html": [
       "<div>\n",
       "<style scoped>\n",
       "    .dataframe tbody tr th:only-of-type {\n",
       "        vertical-align: middle;\n",
       "    }\n",
       "\n",
       "    .dataframe tbody tr th {\n",
       "        vertical-align: top;\n",
       "    }\n",
       "\n",
       "    .dataframe thead th {\n",
       "        text-align: right;\n",
       "    }\n",
       "</style>\n",
       "<table border=\"1\" class=\"dataframe\">\n",
       "  <thead>\n",
       "    <tr style=\"text-align: right;\">\n",
       "      <th></th>\n",
       "      <th>CustomerID</th>\n",
       "      <th>Name</th>\n",
       "      <th>Surname</th>\n",
       "      <th>Gender</th>\n",
       "      <th>Age</th>\n",
       "      <th>Region</th>\n",
       "      <th>JobClassification</th>\n",
       "      <th>DateJoined</th>\n",
       "      <th>Balance</th>\n",
       "    </tr>\n",
       "  </thead>\n",
       "  <tbody>\n",
       "    <tr>\n",
       "      <th>0</th>\n",
       "      <td>100000001</td>\n",
       "      <td>Simon</td>\n",
       "      <td>Walsh</td>\n",
       "      <td>Male</td>\n",
       "      <td>21</td>\n",
       "      <td>England</td>\n",
       "      <td>White Collar</td>\n",
       "      <td>05.Jan.15</td>\n",
       "      <td>113810.15</td>\n",
       "    </tr>\n",
       "    <tr>\n",
       "      <th>1</th>\n",
       "      <td>400000002</td>\n",
       "      <td>Jasmine</td>\n",
       "      <td>Miller</td>\n",
       "      <td>Female</td>\n",
       "      <td>34</td>\n",
       "      <td>Northern Ireland</td>\n",
       "      <td>Blue Collar</td>\n",
       "      <td>06.Jan.15</td>\n",
       "      <td>36919.73</td>\n",
       "    </tr>\n",
       "    <tr>\n",
       "      <th>2</th>\n",
       "      <td>100000003</td>\n",
       "      <td>Liam</td>\n",
       "      <td>Brown</td>\n",
       "      <td>Male</td>\n",
       "      <td>46</td>\n",
       "      <td>England</td>\n",
       "      <td>White Collar</td>\n",
       "      <td>07.Jan.15</td>\n",
       "      <td>101536.83</td>\n",
       "    </tr>\n",
       "    <tr>\n",
       "      <th>3</th>\n",
       "      <td>300000004</td>\n",
       "      <td>Trevor</td>\n",
       "      <td>Parr</td>\n",
       "      <td>Male</td>\n",
       "      <td>32</td>\n",
       "      <td>Wales</td>\n",
       "      <td>White Collar</td>\n",
       "      <td>08.Jan.15</td>\n",
       "      <td>1421.52</td>\n",
       "    </tr>\n",
       "    <tr>\n",
       "      <th>4</th>\n",
       "      <td>100000005</td>\n",
       "      <td>Deirdre</td>\n",
       "      <td>Pullman</td>\n",
       "      <td>Female</td>\n",
       "      <td>38</td>\n",
       "      <td>England</td>\n",
       "      <td>Blue Collar</td>\n",
       "      <td>09.Jan.15</td>\n",
       "      <td>35639.79</td>\n",
       "    </tr>\n",
       "    <tr>\n",
       "      <th>...</th>\n",
       "      <td>...</td>\n",
       "      <td>...</td>\n",
       "      <td>...</td>\n",
       "      <td>...</td>\n",
       "      <td>...</td>\n",
       "      <td>...</td>\n",
       "      <td>...</td>\n",
       "      <td>...</td>\n",
       "      <td>...</td>\n",
       "    </tr>\n",
       "    <tr>\n",
       "      <th>95</th>\n",
       "      <td>100000096</td>\n",
       "      <td>Joshua</td>\n",
       "      <td>Slater</td>\n",
       "      <td>Male</td>\n",
       "      <td>28</td>\n",
       "      <td>England</td>\n",
       "      <td>White Collar</td>\n",
       "      <td>16.Mar.15</td>\n",
       "      <td>67479.01</td>\n",
       "    </tr>\n",
       "    <tr>\n",
       "      <th>96</th>\n",
       "      <td>100000097</td>\n",
       "      <td>Heather</td>\n",
       "      <td>Wallace</td>\n",
       "      <td>Female</td>\n",
       "      <td>38</td>\n",
       "      <td>England</td>\n",
       "      <td>Blue Collar</td>\n",
       "      <td>16.Mar.15</td>\n",
       "      <td>61890.85</td>\n",
       "    </tr>\n",
       "    <tr>\n",
       "      <th>97</th>\n",
       "      <td>100000098</td>\n",
       "      <td>Maria</td>\n",
       "      <td>Johnston</td>\n",
       "      <td>Female</td>\n",
       "      <td>36</td>\n",
       "      <td>England</td>\n",
       "      <td>White Collar</td>\n",
       "      <td>16.Mar.15</td>\n",
       "      <td>1430.60</td>\n",
       "    </tr>\n",
       "    <tr>\n",
       "      <th>98</th>\n",
       "      <td>200000099</td>\n",
       "      <td>Robert</td>\n",
       "      <td>May</td>\n",
       "      <td>Male</td>\n",
       "      <td>40</td>\n",
       "      <td>Scotland</td>\n",
       "      <td>Blue Collar</td>\n",
       "      <td>16.Mar.15</td>\n",
       "      <td>5456.86</td>\n",
       "    </tr>\n",
       "    <tr>\n",
       "      <th>99</th>\n",
       "      <td>200000100</td>\n",
       "      <td>Carolyn</td>\n",
       "      <td>Robertson</td>\n",
       "      <td>Female</td>\n",
       "      <td>56</td>\n",
       "      <td>Scotland</td>\n",
       "      <td>Other</td>\n",
       "      <td>16.Mar.15</td>\n",
       "      <td>13251.27</td>\n",
       "    </tr>\n",
       "  </tbody>\n",
       "</table>\n",
       "<p>100 rows × 9 columns</p>\n",
       "</div>"
      ],
      "text/plain": [
       "    CustomerID     Name    Surname  Gender  Age            Region  \\\n",
       "0    100000001    Simon      Walsh    Male   21           England   \n",
       "1    400000002  Jasmine     Miller  Female   34  Northern Ireland   \n",
       "2    100000003     Liam      Brown    Male   46           England   \n",
       "3    300000004   Trevor       Parr    Male   32             Wales   \n",
       "4    100000005  Deirdre    Pullman  Female   38           England   \n",
       "..         ...      ...        ...     ...  ...               ...   \n",
       "95   100000096   Joshua     Slater    Male   28           England   \n",
       "96   100000097  Heather    Wallace  Female   38           England   \n",
       "97   100000098    Maria   Johnston  Female   36           England   \n",
       "98   200000099   Robert        May    Male   40          Scotland   \n",
       "99   200000100  Carolyn  Robertson  Female   56          Scotland   \n",
       "\n",
       "   JobClassification DateJoined    Balance  \n",
       "0       White Collar  05.Jan.15  113810.15  \n",
       "1        Blue Collar  06.Jan.15   36919.73  \n",
       "2       White Collar  07.Jan.15  101536.83  \n",
       "3       White Collar  08.Jan.15    1421.52  \n",
       "4        Blue Collar  09.Jan.15   35639.79  \n",
       "..               ...        ...        ...  \n",
       "95      White Collar  16.Mar.15   67479.01  \n",
       "96       Blue Collar  16.Mar.15   61890.85  \n",
       "97      White Collar  16.Mar.15    1430.60  \n",
       "98       Blue Collar  16.Mar.15    5456.86  \n",
       "99             Other  16.Mar.15   13251.27  \n",
       "\n",
       "[100 rows x 9 columns]"
      ]
     },
     "execution_count": 33,
     "metadata": {},
     "output_type": "execute_result"
    }
   ],
   "source": [
    "import pandas as pd\n",
    "dft=pd.read_csv('bank.csv')\n",
    "dft.head(100)"
   ]
  },
  {
   "cell_type": "code",
   "execution_count": 20,
   "id": "d44c32ab",
   "metadata": {},
   "outputs": [
    {
     "name": "stdout",
     "output_type": "stream",
     "text": [
      "                                        Hello Welcome\n",
      "0   Lorem ipsum dolor sit amet, consectetur adipis...\n",
      "1   Iam id ipsum absurdum, maximum malum neglegi. ...\n",
      "2                           Quis istum dolorem timet?\n",
      "3   Summus dolor plures dies manere non potest? Di...\n",
      "4   Ex eorum enim scriptis et institutis cum omnis...\n",
      "5   Quod si ita est, sequitur id ipsum, quod te ve...\n",
      "6   Quem si tenueris, non modo meum Ciceronem, sed...\n",
      "7   Stulti autem malorum memoria torquentur, sapie...\n",
      "8   Esse enim quam vellet iniquus iustus poterat i...\n",
      "9   Quae autem natura suae primae institutionis ob...\n",
      "10  Verum tamen cum de rebus grandioribus dicas, i...\n",
      "11  Hoc est non modo cor non habere, sed ne palatu...\n",
      "12  Voluptatem cum summum bonum diceret, primum in...\n",
      "13                              Idemne, quod iucunde?\n",
      "14  Haec mihi videtur delicatior, ut ita dicam, mo...\n"
     ]
    }
   ],
   "source": [
    "import pandas as pd  \n",
    "df = pd.read_table(\"sample3.txt\")  \n",
    "print(df)"
   ]
  },
  {
   "cell_type": "code",
   "execution_count": 34,
   "id": "cfd06a01",
   "metadata": {},
   "outputs": [
    {
     "data": {
      "text/html": [
       "<div>\n",
       "<style scoped>\n",
       "    .dataframe tbody tr th:only-of-type {\n",
       "        vertical-align: middle;\n",
       "    }\n",
       "\n",
       "    .dataframe tbody tr th {\n",
       "        vertical-align: top;\n",
       "    }\n",
       "\n",
       "    .dataframe thead th {\n",
       "        text-align: right;\n",
       "    }\n",
       "</style>\n",
       "<table border=\"1\" class=\"dataframe\">\n",
       "  <thead>\n",
       "    <tr style=\"text-align: right;\">\n",
       "      <th></th>\n",
       "      <th>sepal.length</th>\n",
       "      <th>sepal.width</th>\n",
       "      <th>petal.length</th>\n",
       "      <th>petal.width</th>\n",
       "      <th>variety</th>\n",
       "    </tr>\n",
       "  </thead>\n",
       "  <tbody>\n",
       "    <tr>\n",
       "      <th>0</th>\n",
       "      <td>5.1</td>\n",
       "      <td>3.5</td>\n",
       "      <td>1.4</td>\n",
       "      <td>0.2</td>\n",
       "      <td>Setosa</td>\n",
       "    </tr>\n",
       "    <tr>\n",
       "      <th>1</th>\n",
       "      <td>4.9</td>\n",
       "      <td>3.0</td>\n",
       "      <td>1.4</td>\n",
       "      <td>0.2</td>\n",
       "      <td>Setosa</td>\n",
       "    </tr>\n",
       "    <tr>\n",
       "      <th>2</th>\n",
       "      <td>4.7</td>\n",
       "      <td>3.2</td>\n",
       "      <td>1.3</td>\n",
       "      <td>0.2</td>\n",
       "      <td>Setosa</td>\n",
       "    </tr>\n",
       "    <tr>\n",
       "      <th>3</th>\n",
       "      <td>4.6</td>\n",
       "      <td>3.1</td>\n",
       "      <td>1.5</td>\n",
       "      <td>0.2</td>\n",
       "      <td>Setosa</td>\n",
       "    </tr>\n",
       "    <tr>\n",
       "      <th>4</th>\n",
       "      <td>5.0</td>\n",
       "      <td>3.6</td>\n",
       "      <td>1.4</td>\n",
       "      <td>0.2</td>\n",
       "      <td>Setosa</td>\n",
       "    </tr>\n",
       "  </tbody>\n",
       "</table>\n",
       "</div>"
      ],
      "text/plain": [
       "   sepal.length  sepal.width  petal.length  petal.width variety\n",
       "0           5.1          3.5           1.4          0.2  Setosa\n",
       "1           4.9          3.0           1.4          0.2  Setosa\n",
       "2           4.7          3.2           1.3          0.2  Setosa\n",
       "3           4.6          3.1           1.5          0.2  Setosa\n",
       "4           5.0          3.6           1.4          0.2  Setosa"
      ]
     },
     "execution_count": 34,
     "metadata": {},
     "output_type": "execute_result"
    }
   ],
   "source": [
    "import pandas as pd\n",
    "dft=pd.read_csv('iris.csv')\n",
    "dft.head()"
   ]
  },
  {
   "cell_type": "code",
   "execution_count": 35,
   "id": "8da4bddf",
   "metadata": {},
   "outputs": [
    {
     "name": "stdout",
     "output_type": "stream",
     "text": [
      "     sepal.length  sepal.width  petal.length  petal.width    variety\n",
      "145           6.7          3.0           5.2          2.3  Virginica\n",
      "146           6.3          2.5           5.0          1.9  Virginica\n",
      "147           6.5          3.0           5.2          2.0  Virginica\n",
      "148           6.2          3.4           5.4          2.3  Virginica\n",
      "149           5.9          3.0           5.1          1.8  Virginica\n"
     ]
    }
   ],
   "source": [
    "print(dft.tail())"
   ]
  },
  {
   "cell_type": "code",
   "execution_count": 37,
   "id": "162f674c",
   "metadata": {},
   "outputs": [
    {
     "data": {
      "text/plain": [
       "Index(['sepal.length', 'sepal.width', 'petal.length', 'petal.width',\n",
       "       'variety'],\n",
       "      dtype='object')"
      ]
     },
     "execution_count": 37,
     "metadata": {},
     "output_type": "execute_result"
    }
   ],
   "source": [
    "dft.columns"
   ]
  },
  {
   "cell_type": "code",
   "execution_count": 38,
   "id": "2416b514",
   "metadata": {},
   "outputs": [
    {
     "data": {
      "text/html": [
       "<div>\n",
       "<style scoped>\n",
       "    .dataframe tbody tr th:only-of-type {\n",
       "        vertical-align: middle;\n",
       "    }\n",
       "\n",
       "    .dataframe tbody tr th {\n",
       "        vertical-align: top;\n",
       "    }\n",
       "\n",
       "    .dataframe thead th {\n",
       "        text-align: right;\n",
       "    }\n",
       "</style>\n",
       "<table border=\"1\" class=\"dataframe\">\n",
       "  <thead>\n",
       "    <tr style=\"text-align: right;\">\n",
       "      <th></th>\n",
       "      <th>sepal.length</th>\n",
       "      <th>sepal.width</th>\n",
       "      <th>petal.length</th>\n",
       "      <th>petal.width</th>\n",
       "      <th>variety</th>\n",
       "    </tr>\n",
       "  </thead>\n",
       "  <tbody>\n",
       "    <tr>\n",
       "      <th>count</th>\n",
       "      <td>150.000000</td>\n",
       "      <td>150.000000</td>\n",
       "      <td>150.000000</td>\n",
       "      <td>150.000000</td>\n",
       "      <td>150</td>\n",
       "    </tr>\n",
       "    <tr>\n",
       "      <th>unique</th>\n",
       "      <td>NaN</td>\n",
       "      <td>NaN</td>\n",
       "      <td>NaN</td>\n",
       "      <td>NaN</td>\n",
       "      <td>3</td>\n",
       "    </tr>\n",
       "    <tr>\n",
       "      <th>top</th>\n",
       "      <td>NaN</td>\n",
       "      <td>NaN</td>\n",
       "      <td>NaN</td>\n",
       "      <td>NaN</td>\n",
       "      <td>Setosa</td>\n",
       "    </tr>\n",
       "    <tr>\n",
       "      <th>freq</th>\n",
       "      <td>NaN</td>\n",
       "      <td>NaN</td>\n",
       "      <td>NaN</td>\n",
       "      <td>NaN</td>\n",
       "      <td>50</td>\n",
       "    </tr>\n",
       "    <tr>\n",
       "      <th>mean</th>\n",
       "      <td>5.843333</td>\n",
       "      <td>3.057333</td>\n",
       "      <td>3.758000</td>\n",
       "      <td>1.199333</td>\n",
       "      <td>NaN</td>\n",
       "    </tr>\n",
       "    <tr>\n",
       "      <th>std</th>\n",
       "      <td>0.828066</td>\n",
       "      <td>0.435866</td>\n",
       "      <td>1.765298</td>\n",
       "      <td>0.762238</td>\n",
       "      <td>NaN</td>\n",
       "    </tr>\n",
       "    <tr>\n",
       "      <th>min</th>\n",
       "      <td>4.300000</td>\n",
       "      <td>2.000000</td>\n",
       "      <td>1.000000</td>\n",
       "      <td>0.100000</td>\n",
       "      <td>NaN</td>\n",
       "    </tr>\n",
       "    <tr>\n",
       "      <th>25%</th>\n",
       "      <td>5.100000</td>\n",
       "      <td>2.800000</td>\n",
       "      <td>1.600000</td>\n",
       "      <td>0.300000</td>\n",
       "      <td>NaN</td>\n",
       "    </tr>\n",
       "    <tr>\n",
       "      <th>50%</th>\n",
       "      <td>5.800000</td>\n",
       "      <td>3.000000</td>\n",
       "      <td>4.350000</td>\n",
       "      <td>1.300000</td>\n",
       "      <td>NaN</td>\n",
       "    </tr>\n",
       "    <tr>\n",
       "      <th>75%</th>\n",
       "      <td>6.400000</td>\n",
       "      <td>3.300000</td>\n",
       "      <td>5.100000</td>\n",
       "      <td>1.800000</td>\n",
       "      <td>NaN</td>\n",
       "    </tr>\n",
       "    <tr>\n",
       "      <th>max</th>\n",
       "      <td>7.900000</td>\n",
       "      <td>4.400000</td>\n",
       "      <td>6.900000</td>\n",
       "      <td>2.500000</td>\n",
       "      <td>NaN</td>\n",
       "    </tr>\n",
       "  </tbody>\n",
       "</table>\n",
       "</div>"
      ],
      "text/plain": [
       "        sepal.length  sepal.width  petal.length  petal.width variety\n",
       "count     150.000000   150.000000    150.000000   150.000000     150\n",
       "unique           NaN          NaN           NaN          NaN       3\n",
       "top              NaN          NaN           NaN          NaN  Setosa\n",
       "freq             NaN          NaN           NaN          NaN      50\n",
       "mean        5.843333     3.057333      3.758000     1.199333     NaN\n",
       "std         0.828066     0.435866      1.765298     0.762238     NaN\n",
       "min         4.300000     2.000000      1.000000     0.100000     NaN\n",
       "25%         5.100000     2.800000      1.600000     0.300000     NaN\n",
       "50%         5.800000     3.000000      4.350000     1.300000     NaN\n",
       "75%         6.400000     3.300000      5.100000     1.800000     NaN\n",
       "max         7.900000     4.400000      6.900000     2.500000     NaN"
      ]
     },
     "execution_count": 38,
     "metadata": {},
     "output_type": "execute_result"
    }
   ],
   "source": [
    "dft.describe(include=\"all\")"
   ]
  },
  {
   "cell_type": "code",
   "execution_count": 43,
   "id": "de12cd0e",
   "metadata": {},
   "outputs": [
    {
     "data": {
      "text/html": [
       "<div>\n",
       "<style scoped>\n",
       "    .dataframe tbody tr th:only-of-type {\n",
       "        vertical-align: middle;\n",
       "    }\n",
       "\n",
       "    .dataframe tbody tr th {\n",
       "        vertical-align: top;\n",
       "    }\n",
       "\n",
       "    .dataframe thead th {\n",
       "        text-align: right;\n",
       "    }\n",
       "</style>\n",
       "<table border=\"1\" class=\"dataframe\">\n",
       "  <thead>\n",
       "    <tr style=\"text-align: right;\">\n",
       "      <th></th>\n",
       "      <th>sepal.length</th>\n",
       "      <th>sepal.width</th>\n",
       "      <th>petal.length</th>\n",
       "      <th>petal.width</th>\n",
       "      <th>variety</th>\n",
       "    </tr>\n",
       "  </thead>\n",
       "  <tbody>\n",
       "    <tr>\n",
       "      <th>0</th>\n",
       "      <td>5.1</td>\n",
       "      <td>3.5</td>\n",
       "      <td>1.4</td>\n",
       "      <td>0.2</td>\n",
       "      <td>Setosa</td>\n",
       "    </tr>\n",
       "    <tr>\n",
       "      <th>1</th>\n",
       "      <td>4.9</td>\n",
       "      <td>3.0</td>\n",
       "      <td>1.4</td>\n",
       "      <td>0.2</td>\n",
       "      <td>Setosa</td>\n",
       "    </tr>\n",
       "    <tr>\n",
       "      <th>2</th>\n",
       "      <td>4.7</td>\n",
       "      <td>3.2</td>\n",
       "      <td>1.3</td>\n",
       "      <td>0.2</td>\n",
       "      <td>Setosa</td>\n",
       "    </tr>\n",
       "    <tr>\n",
       "      <th>3</th>\n",
       "      <td>4.6</td>\n",
       "      <td>3.1</td>\n",
       "      <td>1.5</td>\n",
       "      <td>0.2</td>\n",
       "      <td>Setosa</td>\n",
       "    </tr>\n",
       "    <tr>\n",
       "      <th>4</th>\n",
       "      <td>5.0</td>\n",
       "      <td>3.6</td>\n",
       "      <td>1.4</td>\n",
       "      <td>0.2</td>\n",
       "      <td>Setosa</td>\n",
       "    </tr>\n",
       "  </tbody>\n",
       "</table>\n",
       "</div>"
      ],
      "text/plain": [
       "   sepal.length  sepal.width  petal.length  petal.width variety\n",
       "0           5.1          3.5           1.4          0.2  Setosa\n",
       "1           4.9          3.0           1.4          0.2  Setosa\n",
       "2           4.7          3.2           1.3          0.2  Setosa\n",
       "3           4.6          3.1           1.5          0.2  Setosa\n",
       "4           5.0          3.6           1.4          0.2  Setosa"
      ]
     },
     "execution_count": 43,
     "metadata": {},
     "output_type": "execute_result"
    }
   ],
   "source": [
    "dft.head()"
   ]
  },
  {
   "cell_type": "code",
   "execution_count": 45,
   "id": "f01e5604",
   "metadata": {},
   "outputs": [
    {
     "data": {
      "text/plain": [
       "sepal.length    150\n",
       "sepal.width     150\n",
       "petal.length    150\n",
       "petal.width     150\n",
       "variety         150\n",
       "dtype: int64"
      ]
     },
     "execution_count": 45,
     "metadata": {},
     "output_type": "execute_result"
    }
   ],
   "source": [
    "dft.count()"
   ]
  },
  {
   "cell_type": "code",
   "execution_count": 46,
   "id": "62823472",
   "metadata": {},
   "outputs": [
    {
     "data": {
      "text/plain": [
       "5"
      ]
     },
     "execution_count": 46,
     "metadata": {},
     "output_type": "execute_result"
    }
   ],
   "source": [
    "len(dft.columns)"
   ]
  },
  {
   "cell_type": "code",
   "execution_count": 50,
   "id": "a9968cf7",
   "metadata": {},
   "outputs": [
    {
     "data": {
      "text/plain": [
       "150"
      ]
     },
     "execution_count": 50,
     "metadata": {},
     "output_type": "execute_result"
    }
   ],
   "source": [
    "len(dft)"
   ]
  },
  {
   "cell_type": "code",
   "execution_count": 51,
   "id": "f639c167",
   "metadata": {},
   "outputs": [
    {
     "data": {
      "text/plain": [
       "(150, 5)"
      ]
     },
     "execution_count": 51,
     "metadata": {},
     "output_type": "execute_result"
    }
   ],
   "source": [
    "dft.shape"
   ]
  },
  {
   "cell_type": "code",
   "execution_count": 55,
   "id": "c9761425",
   "metadata": {},
   "outputs": [
    {
     "name": "stdout",
     "output_type": "stream",
     "text": [
      "3.7580000000000027\n"
     ]
    }
   ],
   "source": [
    "print(dft['petal.length'].mean())"
   ]
  },
  {
   "cell_type": "code",
   "execution_count": 64,
   "id": "bce08c55",
   "metadata": {},
   "outputs": [
    {
     "data": {
      "text/plain": [
       "sepal.length    5.843333\n",
       "sepal.width     3.057333\n",
       "petal.length    3.758000\n",
       "petal.width     1.199333\n",
       "dtype: float64"
      ]
     },
     "execution_count": 64,
     "metadata": {},
     "output_type": "execute_result"
    }
   ],
   "source": [
    "dft[['sepal.length','sepal.width','petal.length','petal.width']].mean()"
   ]
  },
  {
   "cell_type": "code",
   "execution_count": 72,
   "id": "6511eecf",
   "metadata": {},
   "outputs": [
    {
     "data": {
      "text/html": [
       "<div>\n",
       "<style scoped>\n",
       "    .dataframe tbody tr th:only-of-type {\n",
       "        vertical-align: middle;\n",
       "    }\n",
       "\n",
       "    .dataframe tbody tr th {\n",
       "        vertical-align: top;\n",
       "    }\n",
       "\n",
       "    .dataframe thead th {\n",
       "        text-align: right;\n",
       "    }\n",
       "</style>\n",
       "<table border=\"1\" class=\"dataframe\">\n",
       "  <thead>\n",
       "    <tr style=\"text-align: right;\">\n",
       "      <th></th>\n",
       "      <th>firstName</th>\n",
       "      <th>lastName</th>\n",
       "      <th>gender</th>\n",
       "      <th>age</th>\n",
       "      <th>address</th>\n",
       "      <th>phoneNumbers</th>\n",
       "    </tr>\n",
       "  </thead>\n",
       "  <tbody>\n",
       "    <tr>\n",
       "      <th>0</th>\n",
       "      <td>Joe</td>\n",
       "      <td>Jackson</td>\n",
       "      <td>male</td>\n",
       "      <td>28</td>\n",
       "      <td>{'streetAddress': '101', 'city': 'San Diego', ...</td>\n",
       "      <td>{'type': 'home', 'number': '7349282382'}</td>\n",
       "    </tr>\n",
       "  </tbody>\n",
       "</table>\n",
       "</div>"
      ],
      "text/plain": [
       "  firstName lastName gender  age  \\\n",
       "0       Joe  Jackson   male   28   \n",
       "\n",
       "                                             address  \\\n",
       "0  {'streetAddress': '101', 'city': 'San Diego', ...   \n",
       "\n",
       "                               phoneNumbers  \n",
       "0  {'type': 'home', 'number': '7349282382'}  "
      ]
     },
     "execution_count": 72,
     "metadata": {},
     "output_type": "execute_result"
    }
   ],
   "source": [
    "import pandas as pd\n",
    "import json\n",
    "df=pd.read_json('sample2.json')\n",
    "df.head()"
   ]
  },
  {
   "cell_type": "code",
   "execution_count": 73,
   "id": "8a89e9d4",
   "metadata": {},
   "outputs": [
    {
     "data": {
      "text/plain": [
       "sepal.length    0.828066\n",
       "sepal.width     0.435866\n",
       "petal.length    1.765298\n",
       "petal.width     0.762238\n",
       "dtype: float64"
      ]
     },
     "execution_count": 73,
     "metadata": {},
     "output_type": "execute_result"
    }
   ],
   "source": [
    "dft[['sepal.length','sepal.width','petal.length','petal.width']].std()"
   ]
  },
  {
   "cell_type": "code",
   "execution_count": null,
   "id": "f55fa962",
   "metadata": {},
   "outputs": [],
   "source": []
  }
 ],
 "metadata": {
  "kernelspec": {
   "display_name": "Python 3 (ipykernel)",
   "language": "python",
   "name": "python3"
  },
  "language_info": {
   "codemirror_mode": {
    "name": "ipython",
    "version": 3
   },
   "file_extension": ".py",
   "mimetype": "text/x-python",
   "name": "python",
   "nbconvert_exporter": "python",
   "pygments_lexer": "ipython3",
   "version": "3.9.7"
  }
 },
 "nbformat": 4,
 "nbformat_minor": 5
}
