{
  "nbformat": 4,
  "nbformat_minor": 0,
  "metadata": {
    "colab": {
      "provenance": []
    },
    "kernelspec": {
      "name": "python3",
      "display_name": "Python 3"
    },
    "language_info": {
      "name": "python"
    }
  },
  "cells": [
    {
      "cell_type": "markdown",
      "source": [
        "1.Create a NumPy array"
      ],
      "metadata": {
        "id": "lFS5NiddN5dU"
      }
    },
    {
      "cell_type": "code",
      "source": [
        "import numpy as np\n",
        "#Create a 1D array\n",
        "arr1=np.array([1,2,3])\n",
        "print(arr1)"
      ],
      "metadata": {
        "colab": {
          "base_uri": "https://localhost:8080/"
        },
        "id": "mkJvzvN9N-7N",
        "outputId": "6abc63a0-bebb-42fc-e531-01e6d9a183cd"
      },
      "execution_count": null,
      "outputs": [
        {
          "output_type": "stream",
          "name": "stdout",
          "text": [
            "[1 2 3]\n"
          ]
        }
      ]
    },
    {
      "cell_type": "markdown",
      "source": [
        "2.Access and manipulate the elements of the array"
      ],
      "metadata": {
        "id": "NauPfy-rOixs"
      }
    },
    {
      "cell_type": "code",
      "source": [
        "arr1[2]"
      ],
      "metadata": {
        "colab": {
          "base_uri": "https://localhost:8080/"
        },
        "id": "QeLqDF8POoR9",
        "outputId": "816621b9-b367-4800-ed13-db2359d187e0"
      },
      "execution_count": null,
      "outputs": [
        {
          "output_type": "execute_result",
          "data": {
            "text/plain": [
              "3"
            ]
          },
          "metadata": {},
          "execution_count": 2
        }
      ]
    },
    {
      "cell_type": "code",
      "source": [
        "#change an element from an array\n",
        "arr1[2]=5\n",
        "arr1"
      ],
      "metadata": {
        "colab": {
          "base_uri": "https://localhost:8080/"
        },
        "id": "cnjlCKNTOrZc",
        "outputId": "f4e76b48-b2c1-4113-f252-d2fc368184d0"
      },
      "execution_count": null,
      "outputs": [
        {
          "output_type": "execute_result",
          "data": {
            "text/plain": [
              "array([1, 2, 5])"
            ]
          },
          "metadata": {},
          "execution_count": 3
        }
      ]
    },
    {
      "cell_type": "markdown",
      "source": [
        "3.Create a 2-dimensional array and check the shape of the array"
      ],
      "metadata": {
        "id": "G78pM7TFPm5O"
      }
    },
    {
      "cell_type": "code",
      "source": [
        "arr2=np.array([[1,2,3],[4,5,6]])\n",
        "print(arr2)"
      ],
      "metadata": {
        "colab": {
          "base_uri": "https://localhost:8080/"
        },
        "id": "gWxxQjRrO_pM",
        "outputId": "29e18acb-51df-4bcf-cc87-7a7031604827"
      },
      "execution_count": null,
      "outputs": [
        {
          "output_type": "stream",
          "name": "stdout",
          "text": [
            "[[1 2 3]\n",
            " [4 5 6]]\n"
          ]
        }
      ]
    },
    {
      "cell_type": "code",
      "source": [
        "print(\"The shape is 2 rows and 3 columns:\",arr2.shape)"
      ],
      "metadata": {
        "colab": {
          "base_uri": "https://localhost:8080/"
        },
        "id": "Rsultki8POrc",
        "outputId": "69b16fed-4000-4fc3-c768-3a8ec4fa9db6"
      },
      "execution_count": null,
      "outputs": [
        {
          "output_type": "stream",
          "name": "stdout",
          "text": [
            "The shape is 2 rows and 3 columns: (2, 3)\n"
          ]
        }
      ]
    },
    {
      "cell_type": "markdown",
      "source": [
        "4.Access elements from the 2_d array using index positions"
      ],
      "metadata": {
        "id": "0YLjnkAdQGb1"
      }
    },
    {
      "cell_type": "code",
      "source": [
        "print(arr2[0][2])\n",
        "print(arr2[0,2])\n",
        "print(arr2[0,-1])\n",
        "print(arr2[-1,0])\n"
      ],
      "metadata": {
        "colab": {
          "base_uri": "https://localhost:8080/"
        },
        "id": "da4w83RBQTTM",
        "outputId": "ccd9a0a6-6106-4c20-8a4a-11837a70b06d"
      },
      "execution_count": null,
      "outputs": [
        {
          "output_type": "stream",
          "name": "stdout",
          "text": [
            "3\n",
            "3\n",
            "3\n",
            "4\n"
          ]
        }
      ]
    },
    {
      "cell_type": "markdown",
      "source": [
        "5.Create an array of type string"
      ],
      "metadata": {
        "id": "ZOm5SK76Q05U"
      }
    },
    {
      "cell_type": "code",
      "source": [
        "arr3=np.array(['India','China','USA','Mexico'])\n",
        "print(arr3)"
      ],
      "metadata": {
        "colab": {
          "base_uri": "https://localhost:8080/"
        },
        "id": "GTCB09D1QwHN",
        "outputId": "61c730e6-083a-432d-c61c-8615f110c0e5"
      },
      "execution_count": null,
      "outputs": [
        {
          "output_type": "stream",
          "name": "stdout",
          "text": [
            "['India' 'China' 'USA' 'Mexico']\n"
          ]
        }
      ]
    },
    {
      "cell_type": "code",
      "source": [
        "arr3[1]"
      ],
      "metadata": {
        "colab": {
          "base_uri": "https://localhost:8080/",
          "height": 35
        },
        "id": "M-lZDcerRFpD",
        "outputId": "28cb2195-c191-422e-c9a2-21f98f6d248d"
      },
      "execution_count": null,
      "outputs": [
        {
          "output_type": "execute_result",
          "data": {
            "text/plain": [
              "'China'"
            ],
            "application/vnd.google.colaboratory.intrinsic+json": {
              "type": "string"
            }
          },
          "metadata": {},
          "execution_count": 11
        }
      ]
    },
    {
      "cell_type": "markdown",
      "source": [
        "6.Using the arrange() and inspace() function to evenly space values in a specified interval"
      ],
      "metadata": {
        "id": "3dpxvbX2Rbg9"
      }
    },
    {
      "cell_type": "code",
      "source": [
        "arr=np.arange(0,20,2)\n",
        "print(arr)"
      ],
      "metadata": {
        "colab": {
          "base_uri": "https://localhost:8080/"
        },
        "id": "rv0jicTuRIJD",
        "outputId": "5d295114-aab8-4de7-ccd9-336c85d92599"
      },
      "execution_count": null,
      "outputs": [
        {
          "output_type": "stream",
          "name": "stdout",
          "text": [
            "[ 0  2  4  6  8 10 12 14 16 18]\n"
          ]
        }
      ]
    },
    {
      "cell_type": "code",
      "source": [
        "arr=np.linspace(0,10,20)\n",
        "print(arr)"
      ],
      "metadata": {
        "colab": {
          "base_uri": "https://localhost:8080/"
        },
        "id": "NgmCvgKORzwc",
        "outputId": "e30c9955-2833-4fcc-d71a-1cfcbf819c5c"
      },
      "execution_count": null,
      "outputs": [
        {
          "output_type": "stream",
          "name": "stdout",
          "text": [
            "[ 0.          0.52631579  1.05263158  1.57894737  2.10526316  2.63157895\n",
            "  3.15789474  3.68421053  4.21052632  4.73684211  5.26315789  5.78947368\n",
            "  6.31578947  6.84210526  7.36842105  7.89473684  8.42105263  8.94736842\n",
            "  9.47368421 10.        ]\n"
          ]
        }
      ]
    },
    {
      "cell_type": "markdown",
      "source": [
        "7.Create an array of random values between 0 and1 in a given shape"
      ],
      "metadata": {
        "id": "gC_UBLPJStJl"
      }
    },
    {
      "cell_type": "code",
      "source": [
        "arr=np.random.rand(10)\n",
        "print(arr)\n",
        "print('\\n')\n",
        "arr=np.random.rand(3,4)\n",
        "print(arr)"
      ],
      "metadata": {
        "colab": {
          "base_uri": "https://localhost:8080/"
        },
        "id": "Tg-nYfoLSIGT",
        "outputId": "ff5f27b0-d589-4bf3-8ab6-5f84e63779e8"
      },
      "execution_count": null,
      "outputs": [
        {
          "output_type": "stream",
          "name": "stdout",
          "text": [
            "[0.01338364 0.90254865 0.98460943 0.38218569 0.55037737 0.229002\n",
            " 0.89336686 0.76973608 0.96790017 0.51319064]\n",
            "\n",
            "\n",
            "[[0.0868719  0.39673164 0.77738515 0.04911513]\n",
            " [0.95767511 0.93485992 0.73714122 0.94908229]\n",
            " [0.94592564 0.88748576 0.83061403 0.01190784]]\n"
          ]
        }
      ]
    },
    {
      "cell_type": "markdown",
      "source": [
        "8.Create an array of constant values in a given shape"
      ],
      "metadata": {
        "id": "42ilBYf8T3Bt"
      }
    },
    {
      "cell_type": "code",
      "source": [
        "print(np.full((4,6),10))"
      ],
      "metadata": {
        "colab": {
          "base_uri": "https://localhost:8080/"
        },
        "id": "f3QB2cJYTIW0",
        "outputId": "a8bcfd64-936c-4d62-c10d-8e7ddebeeaba"
      },
      "execution_count": null,
      "outputs": [
        {
          "output_type": "stream",
          "name": "stdout",
          "text": [
            "[[10 10 10 10 10 10]\n",
            " [10 10 10 10 10 10]\n",
            " [10 10 10 10 10 10]\n",
            " [10 10 10 10 10 10]]\n"
          ]
        }
      ]
    },
    {
      "cell_type": "markdown",
      "source": [
        "9.Repeat each element of an array by a specified number of times using repeat() and tile() function"
      ],
      "metadata": {
        "id": "MbIaTiX-UZHU"
      }
    },
    {
      "cell_type": "code",
      "source": [
        "arr=[0,1,2]\n",
        "print(np.repeat(arr,3))"
      ],
      "metadata": {
        "colab": {
          "base_uri": "https://localhost:8080/"
        },
        "id": "nG65LPzfUHGb",
        "outputId": "564e39d4-7822-46fa-dded-0e785d73f8bf"
      },
      "execution_count": null,
      "outputs": [
        {
          "output_type": "stream",
          "name": "stdout",
          "text": [
            "[0 0 0 1 1 1 2 2 2]\n"
          ]
        }
      ]
    },
    {
      "cell_type": "code",
      "source": [
        "arr=[0,1,2]\n",
        "print(np.tile(arr,3))"
      ],
      "metadata": {
        "colab": {
          "base_uri": "https://localhost:8080/"
        },
        "id": "IPCBy9u5U0ha",
        "outputId": "8f317638-8700-49c2-86c2-2163bb9a1aad"
      },
      "execution_count": null,
      "outputs": [
        {
          "output_type": "stream",
          "name": "stdout",
          "text": [
            "[0 1 2 0 1 2 0 1 2]\n"
          ]
        }
      ]
    },
    {
      "cell_type": "markdown",
      "source": [
        "10.Create an identity matrix using eye() and identity() function"
      ],
      "metadata": {
        "id": "DcCx_g_vVEkG"
      }
    },
    {
      "cell_type": "code",
      "source": [
        "identity_matrix=np.eye(3)\n",
        "print(identity_matrix)"
      ],
      "metadata": {
        "colab": {
          "base_uri": "https://localhost:8080/"
        },
        "id": "k5gtwoN0U79j",
        "outputId": "c3953e56-cc1f-41c2-fbae-15d66e60f135"
      },
      "execution_count": null,
      "outputs": [
        {
          "output_type": "stream",
          "name": "stdout",
          "text": [
            "[[1. 0. 0.]\n",
            " [0. 1. 0.]\n",
            " [0. 0. 1.]]\n"
          ]
        }
      ]
    },
    {
      "cell_type": "code",
      "source": [
        "identity_matrix=np.identity(3)\n",
        "print(identity_matrix)"
      ],
      "metadata": {
        "colab": {
          "base_uri": "https://localhost:8080/"
        },
        "id": "llphZTQeVYaM",
        "outputId": "5447e313-a1c8-4003-f83e-25763a48d440"
      },
      "execution_count": null,
      "outputs": [
        {
          "output_type": "stream",
          "name": "stdout",
          "text": [
            "[[1. 0. 0.]\n",
            " [0. 1. 0.]\n",
            " [0. 0. 1.]]\n"
          ]
        }
      ]
    },
    {
      "cell_type": "code",
      "source": [
        "arr=np.random.rand(5,5)\n",
        "print(arr)"
      ],
      "metadata": {
        "colab": {
          "base_uri": "https://localhost:8080/"
        },
        "id": "GKsJx0UxVoTj",
        "outputId": "c2ff7a32-7c3b-420f-f17f-26968d050502"
      },
      "execution_count": null,
      "outputs": [
        {
          "output_type": "stream",
          "name": "stdout",
          "text": [
            "[[0.80072572 0.54181396 0.71260719 0.71414621 0.32349889]\n",
            " [0.15592859 0.21284605 0.75780561 0.20180932 0.44962986]\n",
            " [0.96825443 0.73345394 0.13316883 0.42604851 0.76471766]\n",
            " [0.47915932 0.05848932 0.31937342 0.69017773 0.54577721]\n",
            " [0.16624885 0.72193094 0.9748521  0.69746658 0.21048981]]\n"
          ]
        }
      ]
    },
    {
      "cell_type": "code",
      "source": [
        "print(np.sum(arr,axis=0))"
      ],
      "metadata": {
        "colab": {
          "base_uri": "https://localhost:8080/"
        },
        "id": "qJz_s-KcV_d7",
        "outputId": "b610ce12-358c-4938-d621-1a24d4902df4"
      },
      "execution_count": null,
      "outputs": [
        {
          "output_type": "stream",
          "name": "stdout",
          "text": [
            "[2.5703169  2.26853421 2.89780715 2.72964835 2.29411344]\n"
          ]
        }
      ]
    },
    {
      "cell_type": "code",
      "source": [
        "print(np.sum(arr,axis=1))"
      ],
      "metadata": {
        "colab": {
          "base_uri": "https://localhost:8080/"
        },
        "id": "4zg12kABWpVz",
        "outputId": "0bd86f25-6f64-47d7-b4b9-1967aa02e5cb"
      },
      "execution_count": null,
      "outputs": [
        {
          "output_type": "stream",
          "name": "stdout",
          "text": [
            "[3.09279197 1.77801944 3.02564336 2.09297699 2.77098828]\n"
          ]
        }
      ]
    },
    {
      "cell_type": "code",
      "source": [
        "print(np.mean(arr))\n",
        "print(np.median(arr))\n",
        "print(np.std(arr))\n",
        "print(np.var(arr))"
      ],
      "metadata": {
        "colab": {
          "base_uri": "https://localhost:8080/"
        },
        "id": "BiwQabHxWxiL",
        "outputId": "5a50fe7e-8a26-4844-8b9a-79fe18544ec4"
      },
      "execution_count": null,
      "outputs": [
        {
          "output_type": "stream",
          "name": "stdout",
          "text": [
            "0.5104168019216476\n",
            "0.5418139648211502\n",
            "0.2705187659478592\n",
            "0.07318040272995262\n"
          ]
        }
      ]
    },
    {
      "cell_type": "code",
      "source": [
        "arr=np.random.rand(5,5)\n",
        "print(arr)"
      ],
      "metadata": {
        "colab": {
          "base_uri": "https://localhost:8080/"
        },
        "id": "3Xuxert7XcvD",
        "outputId": "c8f193fc-e04b-4066-a7c1-04b4e13ec16a"
      },
      "execution_count": null,
      "outputs": [
        {
          "output_type": "stream",
          "name": "stdout",
          "text": [
            "[[0.38949352 0.14138213 0.16858982 0.53966574 0.36436769]\n",
            " [0.39906894 0.06879636 0.89597014 0.24104787 0.36247988]\n",
            " [0.08667679 0.37027118 0.14686893 0.00584893 0.26465934]\n",
            " [0.77574007 0.67389502 0.41997953 0.02363548 0.98102385]\n",
            " [0.67024126 0.00279631 0.43496807 0.57855431 0.950042  ]]\n"
          ]
        }
      ]
    },
    {
      "cell_type": "code",
      "source": [
        "print(np.sort(arr,axis=1))"
      ],
      "metadata": {
        "colab": {
          "base_uri": "https://localhost:8080/"
        },
        "id": "zA-4q5IXXzDT",
        "outputId": "4777a48e-b267-4789-c911-bcfbf317f392"
      },
      "execution_count": null,
      "outputs": [
        {
          "output_type": "stream",
          "name": "stdout",
          "text": [
            "[[0.14138213 0.16858982 0.36436769 0.38949352 0.53966574]\n",
            " [0.06879636 0.24104787 0.36247988 0.39906894 0.89597014]\n",
            " [0.00584893 0.08667679 0.14686893 0.26465934 0.37027118]\n",
            " [0.02363548 0.41997953 0.67389502 0.77574007 0.98102385]\n",
            " [0.00279631 0.43496807 0.57855431 0.67024126 0.950042  ]]\n"
          ]
        }
      ]
    },
    {
      "cell_type": "code",
      "source": [
        "arr=np.array([4,5,6,7])\n",
        "arr1=np.append(arr,8)\n",
        "arr1"
      ],
      "metadata": {
        "colab": {
          "base_uri": "https://localhost:8080/"
        },
        "id": "BY8R73yuX9ry",
        "outputId": "4e9679b2-6640-432d-a0ad-f895e70f1b5e"
      },
      "execution_count": null,
      "outputs": [
        {
          "output_type": "execute_result",
          "data": {
            "text/plain": [
              "array([4, 5, 6, 7, 8])"
            ]
          },
          "metadata": {},
          "execution_count": 30
        }
      ]
    },
    {
      "cell_type": "code",
      "source": [
        "arr2=np.append(arr,[9,10,11])\n",
        "print(arr2)"
      ],
      "metadata": {
        "colab": {
          "base_uri": "https://localhost:8080/"
        },
        "id": "CPLndPheZkgv",
        "outputId": "6234bd73-4b2d-4c6d-c12e-27a5c92679a5"
      },
      "execution_count": null,
      "outputs": [
        {
          "output_type": "stream",
          "name": "stdout",
          "text": [
            "[ 4  5  6  7  9 10 11]\n"
          ]
        }
      ]
    },
    {
      "cell_type": "code",
      "source": [
        "arr2=np.array([4,5,6,7,9,10,11])\n",
        "print(arr2)\n",
        "print(\"\\n\")\n",
        "arr5=np.delete(arr2,[1,4])\n",
        "print(arr5)"
      ],
      "metadata": {
        "colab": {
          "base_uri": "https://localhost:8080/"
        },
        "id": "dRmVNkdHZtDm",
        "outputId": "48a138c5-5a0c-4cbc-82bf-44bc067e0cf5"
      },
      "execution_count": null,
      "outputs": [
        {
          "output_type": "stream",
          "name": "stdout",
          "text": [
            "[ 4  5  6  7  9 10 11]\n",
            "\n",
            "\n",
            "[ 4  6  7 10 11]\n"
          ]
        }
      ]
    },
    {
      "cell_type": "code",
      "source": [
        "arr1=np.array([[1,2,3,4],[1,2,3,4]])\n",
        "arr2=np.array([[5,6,7,8],[5,6,7,8]])\n",
        "cat=np.concatenate((arr1,arr2),axis=0)\n",
        "print(cat)\n"
      ],
      "metadata": {
        "colab": {
          "base_uri": "https://localhost:8080/"
        },
        "id": "_pS0fmP5aXsb",
        "outputId": "ef406c69-db0f-4841-ca04-9edf6c4b8155"
      },
      "execution_count": null,
      "outputs": [
        {
          "output_type": "stream",
          "name": "stdout",
          "text": [
            "[[1 2 3 4]\n",
            " [1 2 3 4]\n",
            " [5 6 7 8]\n",
            " [5 6 7 8]]\n"
          ]
        }
      ]
    },
    {
      "cell_type": "code",
      "source": [
        "cat=np.concatenate((arr1,arr2),axis=1)\n",
        "print(cat)"
      ],
      "metadata": {
        "colab": {
          "base_uri": "https://localhost:8080/"
        },
        "id": "ECoGkHSAa4kb",
        "outputId": "423630b2-6bcb-472d-b23f-209dde139c31"
      },
      "execution_count": null,
      "outputs": [
        {
          "output_type": "stream",
          "name": "stdout",
          "text": [
            "[[1 2 3 4 5 6 7 8]\n",
            " [1 2 3 4 5 6 7 8]]\n"
          ]
        }
      ]
    },
    {
      "cell_type": "code",
      "source": [],
      "metadata": {
        "id": "QC6jo7FGbHSy"
      },
      "execution_count": null,
      "outputs": []
    }
  ]
}