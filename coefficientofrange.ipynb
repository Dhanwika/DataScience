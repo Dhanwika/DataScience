{
 "cells": [
  {
   "cell_type": "code",
   "execution_count": 1,
   "id": "fa958b4c",
   "metadata": {},
   "outputs": [
    {
     "name": "stdout",
     "output_type": "stream",
     "text": [
      "Range : 5\n",
      "Coefficient of Range : 0.7142857142857143\n"
     ]
    }
   ],
   "source": [
    "def getMin(arr, n):\n",
    "    res = arr[0]\n",
    "    for i in range(1, n, 1):\n",
    "        res = min(res, arr[i])\n",
    "    return res\n",
    "\n",
    "# Function to return the maximum\n",
    "# element from the array\n",
    "def getMax(arr, n):\n",
    "    res = arr[0]\n",
    "    for i in range(1, n, 1):\n",
    "        res = max(res, arr[i])\n",
    "    return res\n",
    "\n",
    "# Function to print the Range and\n",
    "# Coefficient of Range in the given array\n",
    "def findRangeAndCoefficient(arr, n):\n",
    "    max = getMax(arr, n)\n",
    "    min = getMin(arr, n)\n",
    "    range = max - min\n",
    "    coeffOfRange = range / (max + min)\n",
    "    print(\"Range :\", range)\n",
    "    print(\"Coefficient of Range :\", coeffOfRange)\n",
    "\n",
    "# Driver code\n",
    "if __name__ == '__main__':\n",
    "    arr = [1,2,3,4,5,6]\n",
    "    n = len(arr)\n",
    "    findRangeAndCoefficient(arr, n)"
   ]
  },
  {
   "cell_type": "code",
   "execution_count": null,
   "id": "0e96e640",
   "metadata": {},
   "outputs": [],
   "source": []
  }
 ],
 "metadata": {
  "kernelspec": {
   "display_name": "Python 3 (ipykernel)",
   "language": "python",
   "name": "python3"
  },
  "language_info": {
   "codemirror_mode": {
    "name": "ipython",
    "version": 3
   },
   "file_extension": ".py",
   "mimetype": "text/x-python",
   "name": "python",
   "nbconvert_exporter": "python",
   "pygments_lexer": "ipython3",
   "version": "3.9.7"
  }
 },
 "nbformat": 4,
 "nbformat_minor": 5
}
